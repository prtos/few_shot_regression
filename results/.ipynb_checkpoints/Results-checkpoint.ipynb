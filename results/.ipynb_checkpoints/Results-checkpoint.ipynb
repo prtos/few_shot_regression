{
 "cells": [
  {
   "cell_type": "markdown",
   "metadata": {},
   "source": [
    "## Compiling result for the few-shot regression paper"
   ]
  },
  {
   "cell_type": "code",
   "execution_count": 1,
   "metadata": {},
   "outputs": [],
   "source": [
    "import os\n",
    "import seaborn as sns\n",
    "import pandas as pd\n",
    "import numpy as np\n",
    "import matplotlib.pyplot as plt\n",
    "import glob\n",
    "import json\n",
    "import pickle\n",
    "import itertools\n",
    "import matplotlib as mpl\n",
    "from collections import defaultdict\n",
    "mpl.rcParams['font.family'] = 'Arial'"
   ]
  },
  {
   "cell_type": "code",
   "execution_count": 2,
   "metadata": {},
   "outputs": [],
   "source": [
    "def make_hash(depth=None, type=None):\n",
    "    \"\"\"Utility method to make a multilevel dict\"\"\"\n",
    "    if (depth, type) == (None, None):\n",
    "        return defaultdict(makehash)\n",
    "    elif depth == 0:\n",
    "        return defaultdict(type)\n",
    "    else:\n",
    "        return defaultdict(partial(makehash, depth - 1, type))"
   ]
  },
  {
   "cell_type": "code",
   "execution_count": 3,
   "metadata": {},
   "outputs": [
    {
     "ename": "ModuleNotFoundError",
     "evalue": "No module named 'metalearn'",
     "output_type": "error",
     "traceback": [
      "\u001b[0;31m---------------------------------------------------------------------------\u001b[0m",
      "\u001b[0;31mModuleNotFoundError\u001b[0m                       Traceback (most recent call last)",
      "\u001b[0;32m<ipython-input-3-45e640fa82be>\u001b[0m in \u001b[0;36m<module>\u001b[0;34m()\u001b[0m\n\u001b[0;32m----> 1\u001b[0;31m \u001b[0;32mfrom\u001b[0m \u001b[0mmetalearn\u001b[0m\u001b[0;34m.\u001b[0m\u001b[0mdatasets\u001b[0m\u001b[0;34m.\u001b[0m\u001b[0mloaders\u001b[0m \u001b[0;32mimport\u001b[0m \u001b[0mload_dataset\u001b[0m\u001b[0;34m\u001b[0m\u001b[0m\n\u001b[0m\u001b[1;32m      2\u001b[0m \u001b[0;32mfrom\u001b[0m \u001b[0mmetalearn\u001b[0m\u001b[0;34m.\u001b[0m\u001b[0mmodels\u001b[0m\u001b[0;34m.\u001b[0m\u001b[0mfactory\u001b[0m \u001b[0;32mimport\u001b[0m \u001b[0mModelFactory\u001b[0m\u001b[0;34m\u001b[0m\u001b[0m\n\u001b[1;32m      3\u001b[0m \u001b[0;32mfrom\u001b[0m \u001b[0mmetalearn\u001b[0m\u001b[0;34m.\u001b[0m\u001b[0mutils\u001b[0m\u001b[0;34m.\u001b[0m\u001b[0mmetric\u001b[0m \u001b[0;32mimport\u001b[0m \u001b[0mmse\u001b[0m\u001b[0;34m,\u001b[0m \u001b[0mvse\u001b[0m\u001b[0;34m,\u001b[0m \u001b[0mr2\u001b[0m\u001b[0;34m,\u001b[0m \u001b[0mpcc\u001b[0m\u001b[0;34m\u001b[0m\u001b[0m\n\u001b[1;32m      4\u001b[0m \u001b[0;34m\u001b[0m\u001b[0m\n\u001b[1;32m      5\u001b[0m \u001b[0mf\u001b[0m \u001b[0;34m=\u001b[0m \u001b[0;34m\"/home/prtos/.invivo/invivoai-sagemaker-artifacts/iscb-expts4/iscb-2019-01-27-17-28-00-450/output/model/6d3a0b6fb82df5661be94b8c740ff86e_params.json\"\u001b[0m\u001b[0;34m\u001b[0m\u001b[0m\n",
      "\u001b[0;31mModuleNotFoundError\u001b[0m: No module named 'metalearn'"
     ]
    }
   ],
   "source": [
    "from metalearn.datasets.loaders import load_dataset\n",
    "from metalearn.models.factory import ModelFactory\n",
    "from metalearn.utils.metric import mse, vse, r2, pcc\n",
    "\n",
    "f = \"/home/prtos/.invivo/invivoai-sagemaker-artifacts/iscb-expts4/iscb-2019-01-27-17-28-00-450/output/model/6d3a0b6fb82df5661be94b8c740ff86e_params.json\"\n",
    "def unflatten(dictionary):\n",
    "    resultDict = dict()\n",
    "    for key, value in dictionary.items():\n",
    "        parts = key.split(\".\")\n",
    "        d = resultDict\n",
    "        for part in parts[:-1]:\n",
    "            if part not in d:\n",
    "                d[part] = dict()\n",
    "            d = d[part]\n",
    "        d[parts[-1]] = value\n",
    "    return resultDict\n",
    "    \n",
    "def load_model(folder):\n",
    "    param_file = [os.path.join(folder, f) for f in os.listdir(folder) if f.endswith('_params.json')]\n",
    "    model_file = [os.path.join(folder, f) for f in os.listdir(folder) if f.endswith('_ckp.ckp')]\n",
    "    if len(param_file) == 0 or len(model_file) == 0:\n",
    "        return \n",
    "    param_file = param_file[0]\n",
    "    model_file = model_file[0]\n",
    "    \n",
    "    with open(param_file) as fd:\n",
    "        params = json.load(fd)\n",
    "        \n",
    "    model_name, model_params = params['model_name'], params['model_params']\n",
    "    dataset_name, dataset_params = params['dataset_name'], params['dataset_params']\n",
    "    model = ModelFactory()(model_name, **model_params)\n",
    "    _, _, meta_test = load_dataset(dataset_name, **dataset_params)\n",
    "    \n",
    "    model.load(ckp_fname)\n",
    "    \n",
    "print(unflatten(dd))"
   ]
  },
  {
   "cell_type": "code",
   "execution_count": 3,
   "metadata": {},
   "outputs": [],
   "source": [
    "CACHE_DIR = os.path.join(os.getenv('INVIVO_CACHE_ROOT', '~/.invivo'), 'invivoai-sagemaker-artifacts')\n",
    "KEY1 = 'iscb-expts4'\n",
    "PATH_TEMPLATE = \"output/model/\""
   ]
  },
  {
   "cell_type": "code",
   "execution_count": 5,
   "metadata": {},
   "outputs": [
    {
     "data": {
      "text/plain": [
       "'~/.invivo/invivoai-sagemaker-artifacts/iscb-expts4/*/output/model/'"
      ]
     },
     "execution_count": 5,
     "metadata": {},
     "output_type": "execute_result"
    }
   ],
   "source": [
    "key1_path = os.path.join(CACHE_DIR, KEY1, '*', PATH_TEMPLATE)\n",
    "key1_path"
   ]
  },
  {
   "cell_type": "code",
   "execution_count": 40,
   "metadata": {},
   "outputs": [],
   "source": [
    "res_per_dt =  make_hash(3)\n",
    "\n",
    "def get_params(filename):\n",
    "    with open(filename) as JSON:\n",
    "        params = json.load(JSON)\n",
    "        model_name = params.get('model_name', '')\n",
    "        algo_name = params.get(\"model_params.algo\", '')\n",
    "        if algo_name:\n",
    "            model_name = algo_name\n",
    "        fold = str(params.get('dataset_params.fold', 0))\n",
    "        dataset = params.get('dataset_name')\n",
    "        feat_extract = params.get('model_params.feature_extractor_params.arch', params.get('model_params.fp', ''))\n",
    "        min_ep = params.get('dataset_params.max_examples_per_episode', 10)\n",
    "        kernel = params.get('model_params.kernel', '')\n",
    "        cross_valid = params.get('model_params.do_cv')\n",
    "        fixed_hps = params.get('model_params.fixe_hps', '')\n",
    "        \n",
    "        if cross_valid is not None:\n",
    "            cross_valid = 'cv:{}'.format(int(cross_valid))\n",
    "        else:\n",
    "            cross_valid = ''\n",
    "        if fixed_hps != '':\n",
    "            fixed_hps = 'fL:{}'.format(int(fixed_hps))\n",
    "            \n",
    "        memory_shape = \"x\".join(map(str, params.get('model_params.memory_shape', [])))\n",
    "        controller = str(params.get('model_params.controller_size', ''))\n",
    "        cnn_size = \"x\".join(map(str, params.get('model_params.feature_extractor_params.cnn_sizes', [])))\n",
    "        hyperparams = \"|\".join([kernel, fixed_hps, str(min_ep), cross_valid, memory_shape, cnn_size, controller, fold])\n",
    "        return {'dataset':dataset, 'name':model_name+fixed_hps+cross_valid, 'kernel':kernel, 'cv':cross_valid, 'fhps':fixed_hps, 'ep': min_ep, 'feat':feat_extract, 'fold':fold, 'hp':hyperparams}\n",
    "\n",
    "def get_valid_performance(filename):\n",
    "    valid = pd.read_csv(filename, header=0, skip_blank_lines=True, delim_whitespace=True)\n",
    "    return valid['val_loss'].min()\n",
    "\n",
    "def get_name(x, dataset=''):\n",
    "    path, _ = os.path.splitext(x)\n",
    "    dirs, name = os.path.split(path)\n",
    "    last_dir = os.path.basename(os.path.normpath(dirs))\n",
    "    if 'pubchem' in path or 'pubchem' in dataset:\n",
    "        name = os.path.join(last_dir, name)\n",
    "    if 'pXC50' in name:\n",
    "        name = name.split('_')[1]\n",
    "    return name\n",
    "    \n",
    "for name in glob.glob(key1_path):\n",
    "    if not (os.path.exists(os.path.join(name, 'failure')) or not glob.glob(os.path.join(name, '*csv'))):\n",
    "        param_file = glob.glob(os.path.join(name, '*json'))[0]\n",
    "        res_file = glob.glob(os.path.join(name, '*csv'))[0]\n",
    "        param = get_params(param_file)\n",
    "        model = param['name'] + \"_\" + param['feat'] + \"_{}\".format(param['ep'])\n",
    "        fold = param['fold']\n",
    "        valid_file = glob.glob(os.path.join(name, '*log'))\n",
    "        cur_val = res_per_dt[param['dataset']][model][fold].get('val', np.inf)\n",
    "        best_valid = None\n",
    "        if len(valid_file) > 0:\n",
    "              best_valid = get_valid_performance(valid_file[0])\n",
    "        if (best_valid is None) or (best_valid <= cur_val):\n",
    "            res_per_dt[param['dataset']][model][fold]['best_hp'] = param['hp'] \n",
    "            res_per_dt[param['dataset']][model][fold]['val'] = best_valid or np.inf\n",
    "            val = pd.read_csv(res_file, delim_whitespace=True, skip_blank_lines=True, header=0)\n",
    "            val['name'] = [get_name(x) for x in val['name']]\n",
    "            res_per_dt[param['dataset']][model][fold]['res'] = val\n"
   ]
  },
  {
   "cell_type": "code",
   "execution_count": 41,
   "metadata": {},
   "outputs": [],
   "source": [
    "lod = {'metaqsar': 'chembl', 'pubchem': 'pubchemtox'}\n",
    "def patch_low_data():\n",
    "    all_pkl = glob.glob(os.path.join(key2_path, '*pkl'))\n",
    "    for f in all_pkl:\n",
    "        res = os.path.basename(f).strip('.pkl')\n",
    "        _, lstm, cur_dataset, hp = res.split('_', 3)\n",
    "        res_dict = {}\n",
    "        with open(f, 'rb') as IN:\n",
    "            lstm_dt = pickle.load(IN)\n",
    "            score = lstm_dt['score']\n",
    "            std = lstm_dt['std']\n",
    "            # cannot use std as it was computed on the wrong format\n",
    "            res_dict['msemean'] = score.get('mse')#, dict((x, y**2 if not np.isnan(y) else y) for x,y in score['rms'].items()))\n",
    "            res_dict['r2mean'] = score['r2']\n",
    "            res_dict['vsemean'] = score['vse']\n",
    "            res_dict['pccmean'] = score.get('pcc')#, dict((x, np.sqrt(y) if not np.isnan(y) else y) for x,y in score['r2'].items()))\n",
    "            res_dict['msestd'] = std.get('mse')#, std['rms'])\n",
    "            res_dict['pccstd'] = std.get('pcc')#, std['r2'])\n",
    "            res_dict['r2std'] = std.get('r2')#, std['r2'])\n",
    "            res_dict['vsestd'] = std.get('vse')#, std['r2'])\n",
    "            cur_df = pd.DataFrame(res_dict)\n",
    "            cur_df.index.name = 'name'\n",
    "            cur_df = cur_df.reset_index()\n",
    "            cur_df['name'] = [get_name(x, lod[cur_dataset]) for x in cur_df['name']]\n",
    "            res_per_dt[lod[cur_dataset]]['ldt_'+hp]['0']['res'] = cur_df\n",
    "            res_per_dt[lod[cur_dataset]]['ldt_'+hp]['0']['best_hp'] = hp\n",
    "\n",
    "patch_low_data()\n"
   ]
  },
  {
   "cell_type": "code",
   "execution_count": 42,
   "metadata": {},
   "outputs": [],
   "source": [
    "def compile_fold(dt_val, dataset, old_format=False):\n",
    "    if dataset == 'mhc' and old_format:\n",
    "        all_fold = []\n",
    "        for x in range(len(dt_val.keys())):\n",
    "            h = dt_val[str(x)]['res']\n",
    "            h['name'] = [x+1] \n",
    "            all_fold.append(h)\n",
    "        all_fold = pd.concat(all_fold)\n",
    "\n",
    "    else:\n",
    "        all_fold = pd.concat([dt_val[str(x)]['res'] for x in range(len(dt_val.keys()))])\n",
    "    return all_fold\n",
    "    \n",
    "\n",
    "def merge_dict_of_pd(pd_dict, keyname='method'):\n",
    "    return pd.concat(pd_dict, keys=pd_dict.keys(), sort=True).reset_index(level=0).reset_index(drop=True).rename(columns = {'level_0':keyname})\n",
    "    \n",
    "def reformat_dt(dt):\n",
    "    return dt.set_index(['name', 'method', 'size']).stack().reset_index().rename(columns={'level_3': 'metric', 0: 'value'})\n",
    "\n",
    "def select_best_met(df):\n",
    "    methods = df.method.unique()\n",
    "    mean_val = df.groupby(\"method\").mean().reset_index()\n",
    "    cur_to_met = dict((x, x.split('_')[0]) for x in methods)\n",
    "    best_list = {}\n",
    "    best_method = {}\n",
    "    for k,v in cur_to_met.items():\n",
    "        score = mean_val.loc[mean_val.method==k][\"value\"].values[0]\n",
    "        if score > best_list.get(v, -np.inf):\n",
    "            best_list[v] = score\n",
    "            best_method[v] = k\n",
    "    r = df.loc[df['method'].isin(list(best_method.values()))]\n",
    "    return r\n"
   ]
  },
  {
   "cell_type": "code",
   "execution_count": 43,
   "metadata": {},
   "outputs": [
    {
     "data": {
      "text/plain": [
       "dict_keys(['mhc', 'pubchemtox', 'chembl'])"
      ]
     },
     "execution_count": 43,
     "metadata": {},
     "output_type": "execute_result"
    }
   ],
   "source": [
    "res_per_dt.keys()"
   ]
  },
  {
   "cell_type": "code",
   "execution_count": 44,
   "metadata": {},
   "outputs": [],
   "source": [
    "algo_per_dt = {}\n",
    "for dtname, dt in res_per_dt.items():\n",
    "    dframes = {}\n",
    "    for algo in dt.keys():\n",
    "        dframes[algo] = compile_fold(dt[algo], dtname)\n",
    "    algo_per_dt[dtname] = merge_dict_of_pd(dframes)"
   ]
  },
  {
   "cell_type": "code",
   "execution_count": 45,
   "metadata": {},
   "outputs": [],
   "source": [
    "from ivbase.utils.memorize import memorize, hash_dict\n",
    "import ipywidgets\n",
    "from IPython.display import display\n",
    "sns.set(rc={'figure.figsize':(10,6)})\n",
    "sns.set_style('ticks')\n",
    "sns.set_context(\"paper\", font_scale=1.5, rc={\"lines.linewidth\": 2})\n",
    "metrics = ['msemean', 'r2mean', 'pccmean']\n",
    "\n",
    "w_metrics = ipywidgets.Dropdown(\n",
    "    options=metrics,\n",
    "    value=\"pccmean\",\n",
    "    description='Metrics',\n",
    "    disabled=False\n",
    ")\n",
    "\n",
    "w_plot = ipywidgets.RadioButtons(\n",
    "    options=['violin', 'box'],\n",
    "    description='Type of plot',\n",
    "    disabled=False,\n",
    ")\n",
    "\n",
    "w_dataset = ipywidgets.SelectMultiple(\n",
    "    options=['mhc', 'chembl', 'pubchemtox'],\n",
    "    value=['mhc'],\n",
    "    description='Dataset',\n",
    "    disabled=False\n",
    ")\n",
    "\n",
    "w_best_KRR = ipywidgets.ToggleButton(\n",
    "    value=True,\n",
    "    description='Best MetaKRR',\n",
    "    disabled=False,\n",
    "    button_style='', # 'success', 'info', 'warning', 'danger' or ''\n",
    "    tooltip='Use Best Algo on Test',\n",
    "    icon='check'\n",
    ")\n",
    "\n",
    "metric_to_name = dict(\n",
    "    pccmean='Pearson\\'s r',\n",
    "    msemean= 'Mean square error',\n",
    "    r2mean= 'R2'\n",
    ")\n"
   ]
  },
  {
   "cell_type": "code",
   "execution_count": 46,
   "metadata": {},
   "outputs": [],
   "source": [
    "def get_plotter(metric, plot_type=\"violin\", dtset=['chembl'], best_mkrr=False):\n",
    "    hash_val = hash_dict(metric=metric, plot_type=plot_type, dtset=dtset, best_mkrr=best_mkrr)\n",
    "    output = plot_methods(hash_val, metric=metric, plot_type=plot_type, dtset=dtset, best_mkrr=best_mkrr)\n",
    "    return display(output)\n",
    "\n",
    "@memorize\n",
    "def plot_methods(metric, plot_type, dtset, best_mkrr):\n",
    "    if len(dtset) > 0:\n",
    "        df = merge_dict_of_pd(dict((x, reformat_dt(algo_per_dt[x])) for x in dtset), 'dataset')\n",
    "        if best_mkrr:\n",
    "            r = select_best_met(df.loc[(df.metric == metric)])\n",
    "        else:\n",
    "            r =  df.loc[(df.metric == metric)]\n",
    "        method_list = sorted(r.method.unique())\n",
    "        \n",
    "        #method_list = [x for x in r.method.unique() if 'meta' in x]\n",
    "        #r = r.loc[r['method'].isin(list(method_list))]\n",
    "        #colors =  sns.color_palette(\"Reds\", 5)#len(method_list))\n",
    "        \n",
    "        colors =  sns.color_palette(\"Set3\", len(method_list))\n",
    "        pal = dict((met, colors[i]) for i, met in enumerate(method_list))\n",
    "        out = ipywidgets.Output()\n",
    "        with out:\n",
    "            if len(dtset) > 1:\n",
    "                if plot_type == \"violin\":\n",
    "                    ax = sns.violinplot(x='dataset', y=\"value\", hue=\"method\", data=r, palette=pal)\n",
    "                else:\n",
    "                    ax = sns.boxplot(x='dataset', y=\"value\", hue=\"method\", data=r, palette=pal)\n",
    "                lgd = plt.legend(loc='center left', bbox_to_anchor=(1, 0.5), fancybox=True, shadow=True)\n",
    "\n",
    "            else:\n",
    "                if plot_type == \"violin\":\n",
    "                    ax = sns.violinplot(x='method', y=\"value\", data=r, palette=pal)\n",
    "                else:\n",
    "                    ax = sns.boxplot(x='method', y=\"value\", data=r, palette=pal)\n",
    "                    \n",
    "            ax.set(ylabel=metric_to_name[metric])\n",
    "            ax.set_xticklabels(ax.get_xticklabels(), rotation=-80)\n",
    "            plt.savefig('{metric}_{dataset}.svg'.format(metric=metric, dataset=\"_\".join(dtset)), dpi=600)\n",
    "            plt.title(\"Performance of selected methods on {} ({})\".format(metric, dtset))\n",
    "            #plt.savefig(os.path.join(res_dir, \"{}}{}.pdf\".format(plot_type, metric), bbox_extra_artists=(lgd,), bbox_inches='tight')\n",
    "            #plt.autoscale(enable=True, axis='x', tight=True)\n",
    "\n",
    "            plt.show()\n",
    "        return out   "
   ]
  },
  {
   "cell_type": "code",
   "execution_count": 47,
   "metadata": {},
   "outputs": [
    {
     "data": {
      "application/vnd.jupyter.widget-view+json": {
       "model_id": "e337d35152744f2684782389cf567fe5",
       "version_major": 2,
       "version_minor": 0
      },
      "text/plain": [
       "interactive(children=(Dropdown(description='Metrics', index=2, options=('msemean', 'r2mean', 'pccmean'), value…"
      ]
     },
     "metadata": {},
     "output_type": "display_data"
    },
    {
     "data": {
      "text/plain": [
       "<function __main__.get_plotter(metric, plot_type='violin', dtset=['chembl'], best_mkrr=False)>"
      ]
     },
     "execution_count": 47,
     "metadata": {},
     "output_type": "execute_result"
    }
   ],
   "source": [
    "ipywidgets.interact(get_plotter, metric=w_metrics, plot_type=w_plot, dtset=w_dataset, best_mkrr=w_best_KRR)"
   ]
  },
  {
   "cell_type": "code",
   "execution_count": 36,
   "metadata": {},
   "outputs": [
    {
     "name": "stdout",
     "output_type": "stream",
     "text": [
      "              metakrr_skfL:1cv:0_cnn_10 metakrr_skfL:1cv:0_cnn_20  \\\n",
      "name                                                                \n",
      "HLA-DRB1*0101               0.275±0.048               0.224±0.173   \n",
      "HLA-DRB1*0301               0.423±0.035               0.283±0.194   \n",
      "HLA-DRB1*0401               0.339±0.053               0.262±0.184   \n",
      "HLA-DRB1*0404               0.401±0.038               0.321±0.122   \n",
      "\n",
      "              metakrr_skfL:1cv:0_cnn_40 metakrr_skfL:1cv:0_cnn_5  \n",
      "name                                                              \n",
      "HLA-DRB1*0101               0.181±0.122              0.218±0.095  \n",
      "HLA-DRB1*0301               0.362±0.055              0.418±0.024  \n",
      "HLA-DRB1*0401               0.314±0.148               0.36±0.021  \n",
      "HLA-DRB1*0404               0.385±0.069              0.406±0.064  \n"
     ]
    },
    {
     "data": {
      "text/plain": [
       "'\\\\begin{tabular}{lllll}\\n\\\\toprule\\n{} & metakrr\\\\_skfL:1cv:0\\\\_cnn\\\\_10 & metakrr\\\\_skfL:1cv:0\\\\_cnn\\\\_20 & metakrr\\\\_skfL:1cv:0\\\\_cnn\\\\_40 & metakrr\\\\_skfL:1cv:0\\\\_cnn\\\\_5 \\\\\\\\\\nname          &                           &                           &                           &                          \\\\\\\\\\n\\\\midrule\\nHLA-DRB1*0101 &               0.275±0.048 &               0.224±0.173 &               0.181±0.122 &              0.218±0.095 \\\\\\\\\\nHLA-DRB1*0301 &               0.423±0.035 &               0.283±0.194 &               0.362±0.055 &              0.418±0.024 \\\\\\\\\\nHLA-DRB1*0401 &               0.339±0.053 &               0.262±0.184 &               0.314±0.148 &               0.36±0.021 \\\\\\\\\\nHLA-DRB1*0404 &               0.401±0.038 &               0.321±0.122 &               0.385±0.069 &              0.406±0.064 \\\\\\\\\\n\\\\bottomrule\\n\\\\end{tabular}\\n'"
      ]
     },
     "execution_count": 36,
     "metadata": {},
     "output_type": "execute_result"
    }
   ],
   "source": [
    "def get_formated(df, gp='name'):\n",
    "    return df.round(3).groupby(gp).apply(lambda x: x.astype(str).apply('±'.join, 1)).reset_index(level=0)[0]\n",
    "\n",
    "def mhc_to_latex(mhc_dt, metric='mse'):\n",
    "    met_dt_list = {}\n",
    "    for method in mhc_dt.method.unique():\n",
    "        met_dt = mhc_dt.loc[mhc_dt.method==method]\n",
    "        met_dt = met_dt.reset_index().set_index('name')\n",
    "        met_dt = met_dt[[metric+'mean', metric+'std']]\n",
    "        met_dt = get_formated(met_dt)\n",
    "        met_dt_list[method] = met_dt\n",
    "    df = pd.concat(met_dt_list, axis=1, sort=False)\n",
    "    return df\n",
    "df= mhc_to_latex(algo_per_dt['mhc'], 'pcc')\n",
    "print(df)\n",
    "df.to_latex()\n"
   ]
  },
  {
   "cell_type": "code",
   "execution_count": 51,
   "metadata": {},
   "outputs": [
    {
     "name": "stdout",
     "output_type": "stream",
     "text": [
      "\\begin{tabular}{llrr}\n",
      "\\toprule\n",
      "{} &                     method & \\multicolumn{2}{l}{pccmean} \\\\\n",
      "{} &      mean &       std \\\\\n",
      "\\midrule\n",
      "0  &                mann\\_cnn\\_10 &  0.458083 &  0.071901 \\\\\n",
      "1  &      metakrr\\_skcv:0\\_cnn\\_10 &  0.261707 &       NaN \\\\\n",
      "2  &      metakrr\\_skcv:1\\_cnn\\_10 &  0.160249 &  0.021339 \\\\\n",
      "3  &  metakrr\\_skfL:0cv:0\\_cnn\\_10 &  0.366902 &  0.062001 \\\\\n",
      "4  &  metakrr\\_skfL:0cv:0\\_cnn\\_20 &  0.245782 &  0.055418 \\\\\n",
      "5  &  metakrr\\_skfL:0cv:0\\_cnn\\_30 &  0.297835 &  0.139706 \\\\\n",
      "6  &  metakrr\\_skfL:0cv:0\\_cnn\\_40 &  0.272624 &  0.094266 \\\\\n",
      "7  &   metakrr\\_skfL:0cv:0\\_cnn\\_5 &  0.357735 &  0.092841 \\\\\n",
      "8  &  metakrr\\_skfL:0cv:0\\_cnn\\_50 &  0.275130 &  0.119495 \\\\\n",
      "9  &  metakrr\\_skfL:0cv:1\\_cnn\\_10 &  0.211991 &  0.087992 \\\\\n",
      "10 &  metakrr\\_skfL:0cv:1\\_cnn\\_20 &  0.238331 &  0.091323 \\\\\n",
      "11 &  metakrr\\_skfL:0cv:1\\_cnn\\_30 &  0.344085 &  0.063694 \\\\\n",
      "12 &  metakrr\\_skfL:0cv:1\\_cnn\\_40 &  0.264911 &  0.175041 \\\\\n",
      "13 &   metakrr\\_skfL:0cv:1\\_cnn\\_5 &  0.342913 &  0.055792 \\\\\n",
      "14 &  metakrr\\_skfL:0cv:1\\_cnn\\_50 &  0.316292 &  0.145551 \\\\\n",
      "15 &  metakrr\\_skfL:1cv:0\\_cnn\\_10 &  0.375042 &  0.063970 \\\\\n",
      "16 &  metakrr\\_skfL:1cv:0\\_cnn\\_20 &  0.228060 &  0.061655 \\\\\n",
      "17 &  metakrr\\_skfL:1cv:0\\_cnn\\_30 &  0.280634 &  0.079730 \\\\\n",
      "18 &  metakrr\\_skfL:1cv:0\\_cnn\\_40 &  0.305237 &  0.136588 \\\\\n",
      "19 &   metakrr\\_skfL:1cv:0\\_cnn\\_5 &  0.357891 &  0.068652 \\\\\n",
      "20 &  metakrr\\_skfL:1cv:0\\_cnn\\_50 &  0.306946 &  0.111194 \\\\\n",
      "21 &  metakrr\\_skfL:1cv:1\\_cnn\\_10 &  0.375042 &  0.063970 \\\\\n",
      "22 &  metakrr\\_skfL:1cv:1\\_cnn\\_20 &  0.243518 &  0.060295 \\\\\n",
      "23 &  metakrr\\_skfL:1cv:1\\_cnn\\_30 &  0.297224 &  0.085246 \\\\\n",
      "24 &  metakrr\\_skfL:1cv:1\\_cnn\\_40 &  0.305237 &  0.136588 \\\\\n",
      "25 &   metakrr\\_skfL:1cv:1\\_cnn\\_5 &  0.357891 &  0.068652 \\\\\n",
      "26 &  metakrr\\_skfL:1cv:1\\_cnn\\_50 &  0.327534 &  0.140310 \\\\\n",
      "27 &               seqtoseq\\_\\_10 &  0.037361 &  0.021241 \\\\\n",
      "\\bottomrule\n",
      "\\end{tabular}\n",
      "\n"
     ]
    }
   ],
   "source": [
    "print(algo_per_dt['mhc'].groupby('method', as_index=False).agg({'pccmean':['mean', 'std']}).to_latex())"
   ]
  },
  {
   "cell_type": "code",
   "execution_count": null,
   "metadata": {},
   "outputs": [],
   "source": [
    "df= mhc_to_latex('pcc', 'pubchemtox')\n",
    "print(df)"
   ]
  },
  {
   "cell_type": "code",
   "execution_count": null,
   "metadata": {
    "scrolled": false
   },
   "outputs": [],
   "source": [
    "from mpl_toolkits.axes_grid1 import make_axes_locatable\n",
    "sns.set_style('whitegrid')\n",
    "\n",
    "def partial(func, *args, **keywords):\n",
    "    def newfunc(*fargs, **fkeywords):\n",
    "        newkeywords = keywords.copy()\n",
    "        newkeywords.update(fkeywords)\n",
    "        return func(*(args + fargs), **newkeywords)\n",
    "    newfunc.func = func\n",
    "    newfunc.args = args\n",
    "    newfunc.keywords = keywords\n",
    "    return newfunc\n",
    "\n",
    "\n",
    "def get_axis_limit(metric):\n",
    "    if 'pcc' in metric:\n",
    "        return (-1, 1)\n",
    "    return None\n",
    "\n",
    "    \n",
    "def plot_pairwise(df, a1, a2, metric='pccmean', with_kde=False, size_range=(5, 100), cmap='binary'):\n",
    "    y_lim = x_lim = get_axis_limit(metric)\n",
    "    min_color = 0.7\n",
    "    a1_dt = df.loc[df.method==a1][['name', metric]].set_index('name')\n",
    "    a2_dt = df.loc[df.method==a2][['name', metric]].set_index('name')\n",
    "    size_dt = df.groupby('name')['size'].first()\n",
    "    table = pd.concat({a1:a1_dt, a2: a2_dt, 'size':size_dt}, axis=1, sort=False)\n",
    "    table = table.T.reset_index(level=1,drop=True).T.dropna()\n",
    "    if not x_lim:\n",
    "        cur_dist = table[[a1, a2]].values\n",
    "        min_val = np.min(cur_dist)# - cur_dist.std()*5\n",
    "        max_val = np.max(cur_dist)# + cur_dist.std()*5\n",
    "        y_lim = x_lim = (min_val, max_val)\n",
    "    size = table['size'].values.ravel()\n",
    "    s = (size - size.min()) / (size.max() - size.min())*(size_range[1] - size_range[0]) + size_range[0]\n",
    "    c = (size - size.min()) / (size.max() - size.min())*(1-min_color) + min_color\n",
    "\n",
    "    g = sns.JointGrid(x=a1, y=a2, data=table, space=0, xlim=x_lim, ylim=y_lim)\n",
    "    if with_kde:\n",
    "        g = g.plot_joint(sns.kdeplot, cmap=\"Blues_d\", shade_lowest=False)\n",
    "    g = g.plot_joint(plt.scatter, s=s, c=c, edgecolors='#dddddd', cmap=cmap)#, alpha=0.8)\n",
    "    g = g.plot_marginals(sns.kdeplot, shade=True, color='k')\n",
    "    g.ax_joint.set_xticks(np.linspace(x_lim[0], x_lim[1], 5))\n",
    "    g.ax_joint.set_yticks(np.linspace(y_lim[0], y_lim[1], 5))\n",
    "    g.ax_joint.plot(np.linspace(x_lim[0], x_lim[1]), np.linspace(y_lim[0], y_lim[1]), c='k')\n",
    "    g.set_axis_labels(a1, a2)\n",
    "\n",
    "    divider = make_axes_locatable(g.ax_marg_y)\n",
    "    cax = divider.append_axes('right', size='25%', pad=0.15)\n",
    "    #g.ax_marg_y.set_yscale('log')\n",
    "    cbar = plt.colorbar(cax=cax, ticks=[min_color, 1], orientation='vertical')\n",
    "    cbar.ax.set_yticklabels(['Small', 'Large'])  # horizontal colorbar\n",
    "    cbar.set_label('Dataset size' , fontsize='large')\n",
    "    out = ipywidgets.Output()\n",
    "    with out:\n",
    "        plt.show()\n",
    "    plt.close()\n",
    "    return out\n",
    "    \n",
    "def all_pairwise(dataset, **kwargs):\n",
    "    df = algo_per_dt[dataset]\n",
    "    algos = sorted(df.method.unique())\n",
    "    for a1, a2 in itertools.combinations(algos, 2):\n",
    "        plot_pairwise(df, a1, a2, **kwargs)\n",
    "\n",
    "        \n",
    "def for_interactive(dataset='pubchemtox'):\n",
    "    df = algo_per_dt[dataset]\n",
    "    algos = sorted(df.method.unique())\n",
    "\n",
    "    metric = ipywidgets.Dropdown(\n",
    "        options=['msemean', 'r2mean', 'pccmean'],\n",
    "        value=\"pccmean\",\n",
    "        description='Metric',\n",
    "        disabled=False\n",
    "    )\n",
    "\n",
    "    with_kde = ipywidgets.ToggleButton(\n",
    "        value=False,\n",
    "        description='KDE',\n",
    "        disabled=False,\n",
    "        button_style='', # 'success', 'info', 'warning', 'danger' or ''\n",
    "        tooltip='Use KDE',\n",
    "        icon='check'\n",
    "    )\n",
    "\n",
    "    cmap = ipywidgets.Text(\n",
    "        value='binary',\n",
    "        placeholder='Enter plt color map',\n",
    "        description='cmap:',\n",
    "        disabled=False,\n",
    "        continuous_update=False\n",
    "    )\n",
    "\n",
    "    size_range = ipywidgets.IntRangeSlider(\n",
    "        value=[5, 100],\n",
    "        min=0,\n",
    "        max=500,\n",
    "        step=1,\n",
    "        description='Size:',\n",
    "        disabled=False,\n",
    "        continuous_update=False,\n",
    "        orientation='horizontal',\n",
    "        readout=True,\n",
    "        readout_format='d',\n",
    "    )\n",
    "    \n",
    "    return df, algos, metric, with_kde, size_range, cmap\n",
    "    \n",
    "\n",
    "df, algos, wmetric, with_kde, size_range, cmap = for_interactive('pubchemtox')\n",
    "a1 = ipywidgets.Select(\n",
    "    options=algos,\n",
    "    value=algos[0],\n",
    "    description='Method 1',\n",
    "    disabled=False\n",
    ")\n",
    "\n",
    "a2 = ipywidgets.Select(\n",
    "    options=algos[1:],\n",
    "    value=algos[1],\n",
    "    description='Method 2',\n",
    "    disabled=False\n",
    ")\n",
    "\n",
    "def valid_algo(*args):\n",
    "    allowed = [x for x in algos if x!= a1.value]\n",
    "    with a2.hold_trait_notifications():\n",
    "        a2.value = set(a2.options).intersection(allowed).pop()\n",
    "        a2.options=allowed\n",
    "\n",
    "\n",
    "a1.observe(valid_algo, 'value')\n",
    "ipywidgets.interact(partial(plot_pairwise, df=df), a1=a1, a2=a2, metric=wmetric, with_kde=with_kde, size_range=size_range, cmap=cmap)\n",
    "  \n",
    "#all_pairwise('pubchemtox', metric='pccmean', with_kde=False, cmap='hot')"
   ]
  },
  {
   "cell_type": "code",
   "execution_count": null,
   "metadata": {},
   "outputs": [],
   "source": [
    "sns.set_style('ticks')\n",
    "def plot_with_reference(df, metric='pccmean', ref=None):\n",
    "    all_algos = set(df.method.unique())\n",
    "    if ref and ref in all_algos:\n",
    "        all_algos.remove(ref)\n",
    "        ref = df.loc[df.method==ref][['name', metric]].set_index('name')\n",
    "    else:\n",
    "        ref = None\n",
    "    for algo in all_algos:\n",
    "        dt = df.loc[df.method==algo][['name', metric]].set_index('name')\n",
    "        if ref is not None:\n",
    "            dt = dt - ref\n",
    "        dt = dt.dropna()\n",
    "        sns.kdeplot(dt[metric], shade=True, label=algo)\n",
    "    plt.legend(frameon=True, fontsize='medium', fancybox=True)\n",
    "    sns.despine(top=True, right=True, offset=5)\n",
    "    plt.autoscale(enable=True, axis='x', tight=True)\n",
    "    #plt.savefig(\"xxx.pdf\")\n",
    "    plt.show()"
   ]
  },
  {
   "cell_type": "code",
   "execution_count": null,
   "metadata": {
    "scrolled": false
   },
   "outputs": [],
   "source": [
    "plot_with_reference(algo_per_dt['pubchemtox'], ref=None)"
   ]
  },
  {
   "cell_type": "code",
   "execution_count": null,
   "metadata": {},
   "outputs": [],
   "source": [
    "algo_per_dt['pubchemtox'].loc[algo_per_dt['pubchemtox'].method=='metakrr_sk_cnn'].head()"
   ]
  },
  {
   "cell_type": "code",
   "execution_count": null,
   "metadata": {},
   "outputs": [],
   "source": []
  },
  {
   "cell_type": "code",
   "execution_count": null,
   "metadata": {},
   "outputs": [],
   "source": []
  }
 ],
 "metadata": {
  "kernelspec": {
   "display_name": "invivo",
   "language": "python",
   "name": "invivo"
  },
  "language_info": {
   "codemirror_mode": {
    "name": "ipython",
    "version": 3
   },
   "file_extension": ".py",
   "mimetype": "text/x-python",
   "name": "python",
   "nbconvert_exporter": "python",
   "pygments_lexer": "ipython3",
   "version": "3.6.6"
  }
 },
 "nbformat": 4,
 "nbformat_minor": 2
}
