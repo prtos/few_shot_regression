{
 "cells": [
  {
   "cell_type": "code",
   "execution_count": 1,
   "metadata": {
    "collapsed": true
   },
   "outputs": [],
   "source": [
    "import os\n",
    "import pandas as pd\n",
    "import matplotlib.pyplot as plt\n",
    "from glob import glob\n",
    "from functools import  reduce\n",
    "from itertools import combinations\n",
    "from IPython.display import display"
   ]
  },
  {
   "cell_type": "code",
   "execution_count": 2,
   "metadata": {
    "collapsed": true
   },
   "outputs": [],
   "source": [
    "def highlight_max(s):\n",
    "    '''\n",
    "    highlight the maximum in a Series yellow.\n",
    "    '''\n",
    "    s = pd.to_numeric(s, errors='coerce')\n",
    "    is_max = s == s.max()\n",
    "    return ['background-color: yellow' if v else '' for v in is_max]"
   ]
  },
  {
   "cell_type": "code",
   "execution_count": 5,
   "metadata": {
    "collapsed": true
   },
   "outputs": [],
   "source": [
    "def summarize_results(expts_folder, show_figures=True, select_best_on_valid=True):\n",
    "    res_folders = [el for el in os.listdir(expts_folder) \n",
    "               if os.path.isdir(os.path.join(expts_folder, el))]\n",
    "    metric = \"pcc_mean\"\n",
    "    dfs = []\n",
    "    for res_folder in res_folders:\n",
    "        \n",
    "        if select_best_on_valid:\n",
    "            template = os.path.join(expts_folder, res_folder) + '/log*'\n",
    "            fnames = glob(template)\n",
    "            best_val_loss = float('Inf')\n",
    "            best_hp =None\n",
    "            for fname in fnames:\n",
    "                try:\n",
    "                    temp = pd.read_csv(fname, delimiter='\\t')\n",
    "                except pd.errors.EmptyDataError:\n",
    "                    continue\n",
    "                best_val_loss = temp.val_loss.min()\n",
    "                best_hp = fname\n",
    "            fnames = [best_hp.replace('log', 'results')]\n",
    "        else:            \n",
    "            template = os.path.join(expts_folder, res_folder) + '/results*'\n",
    "            fnames = glob(template)\n",
    "        res_all_hps = []\n",
    "        temp = None\n",
    "        for fname in fnames:\n",
    "            try:\n",
    "                temp = pd.read_csv(fname, delimiter='\\t')\n",
    "            except pd.errors.EmptyDataError:\n",
    "                continue\n",
    "            if temp.shape[1] < 2:\n",
    "                temp = pd.read_csv(fname, delimiter='\\t', skiprows=1)\n",
    "                temp = temp.dropna(how='any', axis=0)\n",
    "                temp = temp.drop_duplicates(keep=False)\n",
    "                # temp = temp.loc[[temp.pcc_median.argmax()]] \n",
    "                temp = temp.loc[temp.groupby([\"name\"])[metric].idxmax()] \n",
    "            res_all_hps.append(temp)\n",
    "        \n",
    "        if len(res_all_hps) > 0:\n",
    "            # print(res_all_hps)\n",
    "            algo_name = '_'.join(res_folder.split('_')[-2:])\n",
    "            res = pd.concat(res_all_hps, ignore_index=True)\n",
    "            # print(res)\n",
    "            # res['hps'] = ['_'.join(f.split('/')[-1].split('_')[5:]) for f in fnames]\n",
    "            res[metric] = pd.to_numeric(res[metric])\n",
    "            res['size'] = pd.to_numeric(res['size'])\n",
    "            res = res.loc[res.groupby([\"name\"])[metric].idxmax()] \n",
    "            res.to_csv(os.path.join(expts_folder, 'recap_'+res_folder+'.txt'), \n",
    "                       index=False,  float_format='%.3f')\n",
    "            if show_figures:\n",
    "                res.plot.scatter('size', metric)\n",
    "                plt.title(algo_name)\n",
    "                plt.show()\n",
    "            dfs.append(res[['name', metric]].set_index('name').rename(\n",
    "                columns=dict(pcc_median=algo_name)))\n",
    "\n",
    "    res = pd.concat(dfs, axis=1).apply(pd.to_numeric)\n",
    "    if show_figures:\n",
    "        for x, y in combinations(res.columns.tolist(), 2):\n",
    "            print('% x > y', res[x].gt(res[y]).mean())\n",
    "            ax = res.plot.scatter(x, y)\n",
    "            ax.plot((-1, 1), (-1, 1), ls=\"-\", c=\".3\")\n",
    "            plt.show()\n",
    "    else:\n",
    "        # print(res.to_latex(float_format='%.3f'))\n",
    "        print(res)\n",
    "        display(res.style.apply(highlight_max, axis=1).set_precision(3))"
   ]
  },
  {
   "cell_type": "code",
   "execution_count": 6,
   "metadata": {},
   "outputs": [
    {
     "name": "stdout",
     "output_type": "stream",
     "text": [
      "               pcc_mean  pcc_mean  pcc_mean  pcc_mean\n",
      "HLA-DRB1*0101   0.49587       NaN       NaN       NaN\n",
      "HLA-DRB1*1501       NaN       NaN       NaN  0.562256\n",
      "HLA-DRB3*0101       NaN  0.182476       NaN       NaN\n",
      "HLA-DRB4*0101       NaN       NaN  0.301347       NaN\n"
     ]
    },
    {
     "ename": "ValueError",
     "evalue": "style is not supported for non-unique indicies.",
     "output_type": "error",
     "traceback": [
      "\u001b[0;31m---------------------------------------------------------------------------\u001b[0m",
      "\u001b[0;31mValueError\u001b[0m                                Traceback (most recent call last)",
      "\u001b[0;32m<ipython-input-6-63f6a89c162f>\u001b[0m in \u001b[0;36m<module>\u001b[0;34m()\u001b[0m\n\u001b[0;32m----> 1\u001b[0;31m \u001b[0msummarize_results\u001b[0m\u001b[0;34m(\u001b[0m\u001b[0mexpts_folder\u001b[0m\u001b[0;34m=\u001b[0m\u001b[0;34m'/home/prtos/workspace/code/few_shot_regression/expt_results/mhc'\u001b[0m\u001b[0;34m,\u001b[0m \u001b[0mshow_figures\u001b[0m\u001b[0;34m=\u001b[0m\u001b[0;32mFalse\u001b[0m\u001b[0;34m)\u001b[0m\u001b[0;34m\u001b[0m\u001b[0m\n\u001b[0m\u001b[1;32m      2\u001b[0m \u001b[0;31m# summarize_results(expts_folder='/home/prtos/workspace/code/few_shot_regression/expt_results/expts_helios', show_figures=True)\u001b[0m\u001b[0;34m\u001b[0m\u001b[0;34m\u001b[0m\u001b[0m\n",
      "\u001b[0;32m<ipython-input-5-e189173a85c9>\u001b[0m in \u001b[0;36msummarize_results\u001b[0;34m(expts_folder, show_figures, select_best_on_valid)\u001b[0m\n\u001b[1;32m     65\u001b[0m         \u001b[0;31m# print(res.to_latex(float_format='%.3f'))\u001b[0m\u001b[0;34m\u001b[0m\u001b[0;34m\u001b[0m\u001b[0m\n\u001b[1;32m     66\u001b[0m         \u001b[0mprint\u001b[0m\u001b[0;34m(\u001b[0m\u001b[0mres\u001b[0m\u001b[0;34m)\u001b[0m\u001b[0;34m\u001b[0m\u001b[0m\n\u001b[0;32m---> 67\u001b[0;31m         \u001b[0mdisplay\u001b[0m\u001b[0;34m(\u001b[0m\u001b[0mres\u001b[0m\u001b[0;34m.\u001b[0m\u001b[0mstyle\u001b[0m\u001b[0;34m.\u001b[0m\u001b[0mapply\u001b[0m\u001b[0;34m(\u001b[0m\u001b[0mhighlight_max\u001b[0m\u001b[0;34m,\u001b[0m \u001b[0maxis\u001b[0m\u001b[0;34m=\u001b[0m\u001b[0;36m1\u001b[0m\u001b[0;34m)\u001b[0m\u001b[0;34m.\u001b[0m\u001b[0mset_precision\u001b[0m\u001b[0;34m(\u001b[0m\u001b[0;36m3\u001b[0m\u001b[0;34m)\u001b[0m\u001b[0;34m)\u001b[0m\u001b[0;34m\u001b[0m\u001b[0m\n\u001b[0m",
      "\u001b[0;32m~/anaconda3/lib/python3.6/site-packages/pandas/core/frame.py\u001b[0m in \u001b[0;36mstyle\u001b[0;34m(self)\u001b[0m\n\u001b[1;32m    632\u001b[0m         \"\"\"\n\u001b[1;32m    633\u001b[0m         \u001b[0;32mfrom\u001b[0m \u001b[0mpandas\u001b[0m\u001b[0;34m.\u001b[0m\u001b[0mio\u001b[0m\u001b[0;34m.\u001b[0m\u001b[0mformats\u001b[0m\u001b[0;34m.\u001b[0m\u001b[0mstyle\u001b[0m \u001b[0;32mimport\u001b[0m \u001b[0mStyler\u001b[0m\u001b[0;34m\u001b[0m\u001b[0m\n\u001b[0;32m--> 634\u001b[0;31m         \u001b[0;32mreturn\u001b[0m \u001b[0mStyler\u001b[0m\u001b[0;34m(\u001b[0m\u001b[0mself\u001b[0m\u001b[0;34m)\u001b[0m\u001b[0;34m\u001b[0m\u001b[0m\n\u001b[0m\u001b[1;32m    635\u001b[0m \u001b[0;34m\u001b[0m\u001b[0m\n\u001b[1;32m    636\u001b[0m     \u001b[0;32mdef\u001b[0m \u001b[0miteritems\u001b[0m\u001b[0;34m(\u001b[0m\u001b[0mself\u001b[0m\u001b[0;34m)\u001b[0m\u001b[0;34m:\u001b[0m\u001b[0;34m\u001b[0m\u001b[0m\n",
      "\u001b[0;32m~/anaconda3/lib/python3.6/site-packages/pandas/io/formats/style.py\u001b[0m in \u001b[0;36m__init__\u001b[0;34m(self, data, precision, table_styles, uuid, caption, table_attributes)\u001b[0m\n\u001b[1;32m    128\u001b[0m             \u001b[0mdata\u001b[0m \u001b[0;34m=\u001b[0m \u001b[0mdata\u001b[0m\u001b[0;34m.\u001b[0m\u001b[0mto_frame\u001b[0m\u001b[0;34m(\u001b[0m\u001b[0;34m)\u001b[0m\u001b[0;34m\u001b[0m\u001b[0m\n\u001b[1;32m    129\u001b[0m         \u001b[0;32mif\u001b[0m \u001b[0;32mnot\u001b[0m \u001b[0mdata\u001b[0m\u001b[0;34m.\u001b[0m\u001b[0mindex\u001b[0m\u001b[0;34m.\u001b[0m\u001b[0mis_unique\u001b[0m \u001b[0;32mor\u001b[0m \u001b[0;32mnot\u001b[0m \u001b[0mdata\u001b[0m\u001b[0;34m.\u001b[0m\u001b[0mcolumns\u001b[0m\u001b[0;34m.\u001b[0m\u001b[0mis_unique\u001b[0m\u001b[0;34m:\u001b[0m\u001b[0;34m\u001b[0m\u001b[0m\n\u001b[0;32m--> 130\u001b[0;31m             \u001b[0;32mraise\u001b[0m \u001b[0mValueError\u001b[0m\u001b[0;34m(\u001b[0m\u001b[0;34m\"style is not supported for non-unique indicies.\"\u001b[0m\u001b[0;34m)\u001b[0m\u001b[0;34m\u001b[0m\u001b[0m\n\u001b[0m\u001b[1;32m    131\u001b[0m \u001b[0;34m\u001b[0m\u001b[0m\n\u001b[1;32m    132\u001b[0m         \u001b[0mself\u001b[0m\u001b[0;34m.\u001b[0m\u001b[0mdata\u001b[0m \u001b[0;34m=\u001b[0m \u001b[0mdata\u001b[0m\u001b[0;34m\u001b[0m\u001b[0m\n",
      "\u001b[0;31mValueError\u001b[0m: style is not supported for non-unique indicies."
     ]
    }
   ],
   "source": [
    "summarize_results(expts_folder='/home/prtos/workspace/code/few_shot_regression/expt_results/mhc', show_figures=False)\n",
    "# summarize_results(expts_folder='/home/prtos/workspace/code/few_shot_regression/expt_results/expts_helios', show_figures=True)"
   ]
  },
  {
   "cell_type": "code",
   "execution_count": null,
   "metadata": {
    "collapsed": true
   },
   "outputs": [],
   "source": []
  }
 ],
 "metadata": {
  "kernelspec": {
   "display_name": "anaconda3",
   "language": "python",
   "name": "anaconda3"
  },
  "language_info": {
   "codemirror_mode": {
    "name": "ipython",
    "version": 3
   },
   "file_extension": ".py",
   "mimetype": "text/x-python",
   "name": "python",
   "nbconvert_exporter": "python",
   "pygments_lexer": "ipython3",
   "version": "3.6.4"
  }
 },
 "nbformat": 4,
 "nbformat_minor": 2
}
