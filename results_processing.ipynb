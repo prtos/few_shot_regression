{
 "cells": [
  {
   "cell_type": "code",
   "execution_count": 1,
   "metadata": {
    "collapsed": true
   },
   "outputs": [],
   "source": [
    "import os\n",
    "import pandas as pd\n",
    "import matplotlib.pyplot as plt\n",
    "from glob import glob\n",
    "from functools import  reduce\n",
    "from itertools import combinations\n",
    "from IPython.display import display"
   ]
  },
  {
   "cell_type": "code",
   "execution_count": 2,
   "metadata": {
    "collapsed": true
   },
   "outputs": [],
   "source": [
    "def highlight_max(s):\n",
    "    '''\n",
    "    highlight the maximum in a Series yellow.\n",
    "    '''\n",
    "    s = pd.to_numeric(s, errors='coerce')\n",
    "    is_max = s == s.max()\n",
    "    return ['background-color: yellow' if v else '' for v in is_max]"
   ]
  },
  {
   "cell_type": "code",
   "execution_count": 23,
   "metadata": {
    "collapsed": true
   },
   "outputs": [],
   "source": [
    "def summarize_results(expts_folder, show_figures=True, select_best_on_valid=False):\n",
    "    res_folders = [el for el in os.listdir(expts_folder) \n",
    "               if os.path.isdir(os.path.join(expts_folder, el))]\n",
    "    metric = \"pcc_mean\"\n",
    "    dfs = []\n",
    "    for res_folder in res_folders:\n",
    "        print(res_folder)\n",
    "        if select_best_on_valid:\n",
    "            template = os.path.join(expts_folder, res_folder) + '/log*'\n",
    "            fnames = glob(template)\n",
    "            best_val_loss = float('Inf')\n",
    "            best_hp =None\n",
    "            for fname in fnames:\n",
    "                try:\n",
    "                    temp = pd.read_csv(fname, delimiter='\\t')\n",
    "                except pd.errors.EmptyDataError:\n",
    "                    continue\n",
    "                best_val_loss = temp.val_loss.min()\n",
    "                best_hp = fname\n",
    "            fnames = [best_hp.replace('log', 'results')]\n",
    "        else:            \n",
    "            template = os.path.join(expts_folder, res_folder) + '/results*'\n",
    "            fnames = glob(template)\n",
    "        res_all_hps = []\n",
    "        temp = None\n",
    "        for fname in fnames:\n",
    "            try:\n",
    "                temp = pd.read_csv(fname, delimiter='\\t')\n",
    "            except pd.errors.EmptyDataError:\n",
    "                continue\n",
    "            if temp.shape[1] < 2:\n",
    "                temp = pd.read_csv(fname, delimiter='\\t', skiprows=1)\n",
    "                temp = temp.dropna(how='any', axis=0)\n",
    "                temp = temp.drop_duplicates(keep=False)\n",
    "                # temp = temp.loc[[temp.pcc_median.argmax()]] \n",
    "                temp = temp[pd.to_numeric(temp[metric], errors='coerce').notnull()]\n",
    "                temp = temp.loc[temp.groupby([\"name\"])[metric].idxmax()] \n",
    "            res_all_hps.append(temp)\n",
    "        \n",
    "        if len(res_all_hps) > 0:\n",
    "            # print(res_all_hps)\n",
    "            algo_name = '_'.join(res_folder.split('_')[-2:])\n",
    "            res = pd.concat(res_all_hps, ignore_index=True)\n",
    "            # print(res)\n",
    "            # res['hps'] = ['_'.join(f.split('/')[-1].split('_')[5:]) for f in fnames]\n",
    "            res[metric] = pd.to_numeric(res[metric])\n",
    "            res['size'] = pd.to_numeric(res['size'])\n",
    "            res = res.loc[res.groupby([\"name\"])[metric].idxmax()] \n",
    "            res.to_csv(os.path.join(expts_folder, 'recap_'+res_folder+'.txt'), \n",
    "                       index=False,  float_format='%.3f')\n",
    "            if show_figures:\n",
    "                res.plot.scatter('size', metric)\n",
    "                plt.title(algo_name)\n",
    "                plt.show()\n",
    "            dfs.append(res[['name', metric]].set_index('name').rename(\n",
    "                columns={metric: algo_name}))\n",
    "\n",
    "    res = pd.concat(dfs, axis=1).apply(pd.to_numeric)\n",
    "    if show_figures:\n",
    "        for x, y in combinations(res.columns.tolist(), 2):\n",
    "            print('% x > y', res[x].gt(res[y]).mean())\n",
    "            ax = res.plot.scatter(x, y)\n",
    "            ax.plot((-1, 1), (-1, 1), ls=\"-\", c=\".3\")\n",
    "            plt.show()\n",
    "    else:\n",
    "        # print(res.to_latex(float_format='%.3f'))\n",
    "        print(res)\n",
    "        # display(res.style.apply(highlight_max, axis=1).set_precision(3))"
   ]
  },
  {
   "cell_type": "code",
   "execution_count": 24,
   "metadata": {},
   "outputs": [
    {
     "name": "stdout",
     "output_type": "stream",
     "text": [
      "results_mhcpan_mann_cnn\n",
      "results_mhcpan_pretrain_cnn\n",
      "results_mhcpan_maml_cnn\n",
      "results_mhcpan_krr_cnn\n",
      "               mann_cnn  pretrain_cnn  maml_cnn   krr_cnn\n",
      "name                                                     \n",
      "HLA-DRB1*0101  0.184831      0.041413  0.486823  0.426860\n",
      "HLA-DRB1*0301  0.360999      0.063412  0.542506  0.485820\n",
      "HLA-DRB1*0401  0.287210      0.124768  0.546736  0.532126\n",
      "HLA-DRB1*0404  0.323568      0.037275  0.561135  0.578007\n",
      "HLA-DRB1*0405  0.455905      0.172535  0.600145  0.641682\n",
      "HLA-DRB1*0701  0.301558      0.198806  0.693124  0.662625\n",
      "HLA-DRB1*0802  0.155813      0.045334  0.425447  0.316689\n",
      "HLA-DRB1*0901  0.133562      0.076647  0.524341  0.505290\n",
      "HLA-DRB1*1101  0.205826      0.072667  0.577498  0.623800\n",
      "HLA-DRB1*1302  0.107683      0.110303  0.499297  0.426291\n",
      "HLA-DRB1*1501  0.283141      0.202750  0.612747  0.604902\n",
      "HLA-DRB3*0101  0.176131      0.018379  0.380906  0.291169\n",
      "HLA-DRB4*0101  0.406634      0.073280  0.545620  0.504074\n",
      "HLA-DRB5*0101  0.237611      0.135043  0.584240  0.557269\n"
     ]
    }
   ],
   "source": [
    "summarize_results(expts_folder='/home/prtos/workspace/code/few_shot_regression/expt_results/mhc_test', show_figures=False)\n",
    "# summarize_results(expts_folder='/home/prtos/workspace/code/few_shot_regression/expt_results/expts_helios', show_figures=True)"
   ]
  },
  {
   "cell_type": "code",
   "execution_count": null,
   "metadata": {
    "collapsed": true
   },
   "outputs": [],
   "source": []
  }
 ],
 "metadata": {
  "kernelspec": {
   "display_name": "anaconda3",
   "language": "python",
   "name": "anaconda3"
  },
  "language_info": {
   "codemirror_mode": {
    "name": "ipython",
    "version": 3
   },
   "file_extension": ".py",
   "mimetype": "text/x-python",
   "name": "python",
   "nbconvert_exporter": "python",
   "pygments_lexer": "ipython3",
   "version": "3.6.4"
  }
 },
 "nbformat": 4,
 "nbformat_minor": 2
}
