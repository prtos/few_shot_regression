{
 "cells": [
  {
   "cell_type": "markdown",
   "metadata": {},
   "source": [
    "## Result for conditioning of the metakrr_mk using harmonic datasets"
   ]
  },
  {
   "cell_type": "markdown",
   "metadata": {},
   "source": [
    "### Abstract\n",
    "In this experiement, we focus on comparing different ways of obtaining support set representations.\n",
    "We also compare MetakRR with Conditional neural process (CNP) and Bayesian MAML (BMAML, not finished yet).\n",
    "We only use the harmonic meta-dataset for this experiment.\n",
    "Recall that this dataset consists of two sin functions added to generate a harmonic function. A function gives a learning task and all tasks differ from each others by the phases and amplitudes and the frequences of the sin functions combined.\n",
    "\n",
    "To compute the support set representation, we tested the following architectures:\n",
    "- deepset, a MLP based network with order invariance proposed by https://papers.nips.cc/paper/6931-deep-sets.pdf\n",
    "- set2set, an lstm based network proposed by https://arxiv.org/abs/1511.06391\n",
    "- multihead attention (from attention is all you need)\n",
    "- simple attention (from neural machine translation)\n",
    "- relation net with average pooling\n",
    "- relation net with attention pooling\n",
    "- relation net with deepset pooling\n",
    "\n",
    "Once the support set representation are computed, we use the fusion network to compute the conditionned input representation:\n",
    "+ fusion net $f([\\phi(x); z])$: where $[a; b]$ is the concatenation of the vectors $a$ and $b$; and $f$ is neural network \n"
   ]
  },
  {
   "cell_type": "code",
   "execution_count": 1,
   "metadata": {},
   "outputs": [],
   "source": [
    "from analysis_utils import *"
   ]
  },
  {
   "cell_type": "code",
   "execution_count": 4,
   "metadata": {},
   "outputs": [],
   "source": [
    "res_folder = os.path.abspath('./focus_mem/results/')"
   ]
  },
  {
   "cell_type": "markdown",
   "metadata": {},
   "source": [
    "## Analysis of the validation lost and the meta-test performances"
   ]
  },
  {
   "cell_type": "code",
   "execution_count": 5,
   "metadata": {},
   "outputs": [
    {
     "data": {
      "text/html": [
       "<div>\n",
       "<style scoped>\n",
       "    .dataframe tbody tr th:only-of-type {\n",
       "        vertical-align: middle;\n",
       "    }\n",
       "\n",
       "    .dataframe tbody tr th {\n",
       "        vertical-align: top;\n",
       "    }\n",
       "\n",
       "    .dataframe thead th {\n",
       "        text-align: right;\n",
       "    }\n",
       "</style>\n",
       "<table border=\"1\" class=\"dataframe\">\n",
       "  <thead>\n",
       "    <tr style=\"text-align: right;\">\n",
       "      <th></th>\n",
       "      <th>events_file</th>\n",
       "      <th>hidden_sizes</th>\n",
       "      <th>softmax_coef</th>\n",
       "      <th>task_memory_size</th>\n",
       "      <th>use_improvement_loss</th>\n",
       "      <th>mse</th>\n",
       "      <th>pcc</th>\n",
       "      <th>r2</th>\n",
       "      <th>tboard_folder</th>\n",
       "      <th>val_loss</th>\n",
       "    </tr>\n",
       "  </thead>\n",
       "  <tbody>\n",
       "    <tr>\n",
       "      <th>0</th>\n",
       "      <td>/home/prtos/workspace/code/phd/few_shot_regres...</td>\n",
       "      <td>[64, 62]</td>\n",
       "      <td>100.0</td>\n",
       "      <td>100</td>\n",
       "      <td>True</td>\n",
       "      <td>0.619150</td>\n",
       "      <td>0.575113</td>\n",
       "      <td>0.331245</td>\n",
       "      <td>/home/prtos/workspace/code/phd/few_shot_regres...</td>\n",
       "      <td>2.388235</td>\n",
       "    </tr>\n",
       "    <tr>\n",
       "      <th>1</th>\n",
       "      <td>/home/prtos/workspace/code/phd/few_shot_regres...</td>\n",
       "      <td>[128, 128]</td>\n",
       "      <td>1.0</td>\n",
       "      <td>100</td>\n",
       "      <td>True</td>\n",
       "      <td>0.582300</td>\n",
       "      <td>0.611285</td>\n",
       "      <td>0.372256</td>\n",
       "      <td>/home/prtos/workspace/code/phd/few_shot_regres...</td>\n",
       "      <td>2.300076</td>\n",
       "    </tr>\n",
       "    <tr>\n",
       "      <th>2</th>\n",
       "      <td>/home/prtos/workspace/code/phd/few_shot_regres...</td>\n",
       "      <td>[64, 62]</td>\n",
       "      <td>1.0</td>\n",
       "      <td>50</td>\n",
       "      <td>False</td>\n",
       "      <td>0.589879</td>\n",
       "      <td>0.604589</td>\n",
       "      <td>0.363788</td>\n",
       "      <td>/home/prtos/workspace/code/phd/few_shot_regres...</td>\n",
       "      <td>0.634073</td>\n",
       "    </tr>\n",
       "    <tr>\n",
       "      <th>3</th>\n",
       "      <td>/home/prtos/workspace/code/phd/few_shot_regres...</td>\n",
       "      <td>[64, 62]</td>\n",
       "      <td>1.0</td>\n",
       "      <td>50</td>\n",
       "      <td>True</td>\n",
       "      <td>0.622668</td>\n",
       "      <td>0.572959</td>\n",
       "      <td>0.328580</td>\n",
       "      <td>/home/prtos/workspace/code/phd/few_shot_regres...</td>\n",
       "      <td>2.370940</td>\n",
       "    </tr>\n",
       "    <tr>\n",
       "      <th>4</th>\n",
       "      <td>/home/prtos/workspace/code/phd/few_shot_regres...</td>\n",
       "      <td>[64, 62]</td>\n",
       "      <td>100.0</td>\n",
       "      <td>50</td>\n",
       "      <td>False</td>\n",
       "      <td>0.600964</td>\n",
       "      <td>0.595409</td>\n",
       "      <td>0.353210</td>\n",
       "      <td>/home/prtos/workspace/code/phd/few_shot_regres...</td>\n",
       "      <td>0.642994</td>\n",
       "    </tr>\n",
       "  </tbody>\n",
       "</table>\n",
       "</div>"
      ],
      "text/plain": [
       "                                         events_file hidden_sizes  \\\n",
       "0  /home/prtos/workspace/code/phd/few_shot_regres...     [64, 62]   \n",
       "1  /home/prtos/workspace/code/phd/few_shot_regres...   [128, 128]   \n",
       "2  /home/prtos/workspace/code/phd/few_shot_regres...     [64, 62]   \n",
       "3  /home/prtos/workspace/code/phd/few_shot_regres...     [64, 62]   \n",
       "4  /home/prtos/workspace/code/phd/few_shot_regres...     [64, 62]   \n",
       "\n",
       "  softmax_coef task_memory_size use_improvement_loss       mse       pcc  \\\n",
       "0        100.0              100                 True  0.619150  0.575113   \n",
       "1          1.0              100                 True  0.582300  0.611285   \n",
       "2          1.0               50                False  0.589879  0.604589   \n",
       "3          1.0               50                 True  0.622668  0.572959   \n",
       "4        100.0               50                False  0.600964  0.595409   \n",
       "\n",
       "         r2                                      tboard_folder  val_loss  \n",
       "0  0.331245  /home/prtos/workspace/code/phd/few_shot_regres...  2.388235  \n",
       "1  0.372256  /home/prtos/workspace/code/phd/few_shot_regres...  2.300076  \n",
       "2  0.363788  /home/prtos/workspace/code/phd/few_shot_regres...  0.634073  \n",
       "3  0.328580  /home/prtos/workspace/code/phd/few_shot_regres...  2.370940  \n",
       "4  0.353210  /home/prtos/workspace/code/phd/few_shot_regres...  0.642994  "
      ]
     },
     "metadata": {},
     "output_type": "display_data"
    },
    {
     "name": "stdout",
     "output_type": "stream",
     "text": [
      "(16, 10)\n"
     ]
    }
   ],
   "source": [
    "resdata, test_filenames = get_result_summaries(res_folder)\n",
    "# resdata = resdata[resdata.model_name == 'cnp']\n",
    "display(resdata.head())\n",
    "print(resdata.shape)"
   ]
  },
  {
   "cell_type": "code",
   "execution_count": 6,
   "metadata": {},
   "outputs": [
    {
     "name": "stdout",
     "output_type": "stream",
     "text": [
      "['hidden_sizes']\n"
     ]
    },
    {
     "data": {
      "application/vnd.jupyter.widget-view+json": {
       "model_id": "0165d30e64ec45e591dffbffcab5ce40",
       "version_major": 2,
       "version_minor": 0
      },
      "text/plain": [
       "interactive(children=(Dropdown(description='Metric', options=('mse', 'r2', 'pcc', 'val_loss'), value='mse'), D…"
      ]
     },
     "metadata": {},
     "output_type": "display_data"
    },
    {
     "data": {
      "text/plain": [
       "<function __main__.<lambda>(**x)>"
      ]
     },
     "execution_count": 6,
     "metadata": {},
     "output_type": "execute_result"
    }
   ],
   "source": [
    "widgets = get_metric_heatmap_widgets(resdata, filter_names=['hidden_sizes']) # the metric widget is implicit\n",
    "drawing_func = lambda **x: get_heatmaps(data=resdata,\n",
    "                       heat_column_names=['hidden_sizes', 'use_improvement_loss'],\n",
    "                       heat_row_names=['task_memory_size', 'softmax_coef'], **x)\n",
    "ipywidgets.interact(drawing_func, **widgets)"
   ]
  },
  {
   "cell_type": "code",
   "execution_count": null,
   "metadata": {},
   "outputs": [],
   "source": [
    "widgets = get_fitting_curves_widgets(resdata, test_filenames) # the metric widget is implicit\n",
    "drawing_func = lambda **x: plot_fitting_curves(resdata, **x)\n",
    "ipywidgets.interact(drawing_func, **widgets)"
   ]
  },
  {
   "cell_type": "markdown",
   "metadata": {},
   "source": [
    "## Closing thougths and next steps"
   ]
  },
  {
   "cell_type": "markdown",
   "metadata": {},
   "source": [
    "### Next steps and advices from A. Lacoste\n",
    "- Memory for the task representation like in deep prior \n",
    "- - local minima prob: maybe bigger repr (NN may find a manifold)\n",
    "- - train test repr during meta-train \n",
    "- - need a lot of tasks to learn the whole thing\n",
    "- memory + task encoder: an alternative (regularize with KL and posterior)?\n",
    "- play with the size of the task repr (min 5) (priority\n",
    "- read proto-MAML (think about proto MetaKRR)\n",
    "- experiments with proteins "
   ]
  }
 ],
 "metadata": {
  "kernelspec": {
   "display_name": "invivo",
   "language": "python",
   "name": "invivo"
  },
  "language_info": {
   "codemirror_mode": {
    "name": "ipython",
    "version": 3
   },
   "file_extension": ".py",
   "mimetype": "text/x-python",
   "name": "python",
   "nbconvert_exporter": "python",
   "pygments_lexer": "ipython3",
   "version": "3.6.8"
  }
 },
 "nbformat": 4,
 "nbformat_minor": 2
}
