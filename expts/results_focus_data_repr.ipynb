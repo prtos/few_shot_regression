{
 "cells": [
  {
   "cell_type": "markdown",
   "metadata": {},
   "source": [
    "## Result for conditioning of the metakrr_mk using harmonic datasets"
   ]
  },
  {
   "cell_type": "markdown",
   "metadata": {},
   "source": [
    "### Abstract\n",
    "In this experiement, we focus on comparing different ways of obtaining support set representations.\n",
    "We also compare MetakRR with Conditional neural process (CNP) and Bayesian MAML (BMAML, not finished yet).\n",
    "We only use the harmonic meta-dataset for this experiment.\n",
    "Recall that this dataset consists of two sin functions added to generate a harmonic function. A function gives a learning task and all tasks differ from each others by the phases and amplitudes and the frequences of the sin functions combined.\n",
    "\n",
    "To compute the support set representation, we tested the following architectures:\n",
    "- deepset, a MLP based network with order invariance proposed by https://papers.nips.cc/paper/6931-deep-sets.pdf\n",
    "- set2set, an lstm based network proposed by https://arxiv.org/abs/1511.06391\n",
    "- multihead attention (from attention is all you need)\n",
    "- simple attention (from neural machine translation)\n",
    "- relation net with average pooling\n",
    "- relation net with attention pooling\n",
    "- relation net with deepset pooling\n",
    "\n",
    "Once the support set representation are computed, we use the fusion network to compute the conditionned input representation:\n",
    "+ fusion net $f([\\phi(x); z])$: where $[a; b]$ is the concatenation of the vectors $a$ and $b$; and $f$ is neural network \n"
   ]
  },
  {
   "cell_type": "code",
   "execution_count": 1,
   "metadata": {},
   "outputs": [
    {
     "ename": "ModuleNotFoundError",
     "evalue": "No module named 'metalearn'",
     "output_type": "error",
     "traceback": [
      "\u001b[0;31m----------------------------------------------------------------------\u001b[0m",
      "\u001b[0;31mModuleNotFoundError\u001b[0m                  Traceback (most recent call last)",
      "\u001b[0;32m<ipython-input-1-4ae520cdc77a>\u001b[0m in \u001b[0;36m<module>\u001b[0;34m\u001b[0m\n\u001b[0;32m----> 1\u001b[0;31m \u001b[0;32mfrom\u001b[0m \u001b[0manalysis_utils\u001b[0m \u001b[0;32mimport\u001b[0m \u001b[0;34m*\u001b[0m\u001b[0;34m\u001b[0m\u001b[0;34m\u001b[0m\u001b[0m\n\u001b[0m",
      "\u001b[0;32m~/workspace/code/phd/few_shot_regression/expts/analysis_utils.py\u001b[0m in \u001b[0;36m<module>\u001b[0;34m\u001b[0m\n\u001b[1;32m     20\u001b[0m \u001b[0;32mfrom\u001b[0m \u001b[0mcollections\u001b[0m \u001b[0;32mimport\u001b[0m \u001b[0mdefaultdict\u001b[0m\u001b[0;34m,\u001b[0m \u001b[0mOrderedDict\u001b[0m\u001b[0;34m\u001b[0m\u001b[0;34m\u001b[0m\u001b[0m\n\u001b[1;32m     21\u001b[0m \u001b[0;32mfrom\u001b[0m \u001b[0mIPython\u001b[0m\u001b[0;34m.\u001b[0m\u001b[0mdisplay\u001b[0m \u001b[0;32mimport\u001b[0m \u001b[0mdisplay\u001b[0m\u001b[0;34m\u001b[0m\u001b[0;34m\u001b[0m\u001b[0m\n\u001b[0;32m---> 22\u001b[0;31m \u001b[0;32mfrom\u001b[0m \u001b[0mmetalearn\u001b[0m\u001b[0;34m.\u001b[0m\u001b[0mdatasets\u001b[0m\u001b[0;34m.\u001b[0m\u001b[0mloaders\u001b[0m \u001b[0;32mimport\u001b[0m \u001b[0mload_dataset\u001b[0m\u001b[0;34m\u001b[0m\u001b[0;34m\u001b[0m\u001b[0m\n\u001b[0m\u001b[1;32m     23\u001b[0m \u001b[0;32mfrom\u001b[0m \u001b[0mmetalearn\u001b[0m\u001b[0;34m.\u001b[0m\u001b[0mmodels\u001b[0m\u001b[0;34m.\u001b[0m\u001b[0mfactory\u001b[0m \u001b[0;32mimport\u001b[0m \u001b[0mModelFactory\u001b[0m\u001b[0;34m\u001b[0m\u001b[0;34m\u001b[0m\u001b[0m\n\u001b[1;32m     24\u001b[0m \u001b[0;32mfrom\u001b[0m \u001b[0mmetalearn\u001b[0m\u001b[0;34m.\u001b[0m\u001b[0mmetric\u001b[0m \u001b[0;32mimport\u001b[0m \u001b[0mmse\u001b[0m\u001b[0;34m,\u001b[0m \u001b[0mvse\u001b[0m\u001b[0;34m,\u001b[0m \u001b[0mr2_score\u001b[0m\u001b[0;34m,\u001b[0m \u001b[0mpearsonr\u001b[0m\u001b[0;34m\u001b[0m\u001b[0;34m\u001b[0m\u001b[0m\n",
      "\u001b[0;31mModuleNotFoundError\u001b[0m: No module named 'metalearn'"
     ]
    }
   ],
   "source": [
    "from analysis_utils import *"
   ]
  },
  {
   "cell_type": "code",
   "execution_count": 2,
   "metadata": {},
   "outputs": [],
   "source": [
    "res_folder = os.path.abspath('./focus_data_repr/results/')"
   ]
  },
  {
   "cell_type": "markdown",
   "metadata": {},
   "source": [
    "## Analysis of the validation lost and the meta-test performances"
   ]
  },
  {
   "cell_type": "code",
   "execution_count": 3,
   "metadata": {},
   "outputs": [
    {
     "data": {
      "text/html": [
       "<div>\n",
       "<style scoped>\n",
       "    .dataframe tbody tr th:only-of-type {\n",
       "        vertical-align: middle;\n",
       "    }\n",
       "\n",
       "    .dataframe tbody tr th {\n",
       "        vertical-align: top;\n",
       "    }\n",
       "\n",
       "    .dataframe thead th {\n",
       "        text-align: right;\n",
       "    }\n",
       "</style>\n",
       "<table border=\"1\" class=\"dataframe\">\n",
       "  <thead>\n",
       "    <tr style=\"text-align: right;\">\n",
       "      <th></th>\n",
       "      <th>events_file</th>\n",
       "      <th>model_name</th>\n",
       "      <th>hidden_dim</th>\n",
       "      <th>num_layers</th>\n",
       "      <th>hidden_sizes</th>\n",
       "      <th>use_improvement_loss</th>\n",
       "      <th>mse</th>\n",
       "      <th>pcc</th>\n",
       "      <th>r2</th>\n",
       "      <th>tboard_folder</th>\n",
       "      <th>val_loss</th>\n",
       "    </tr>\n",
       "  </thead>\n",
       "  <tbody>\n",
       "    <tr>\n",
       "      <th>0</th>\n",
       "      <td>/home/prtos/workspace/code/phd/few_shot_regres...</td>\n",
       "      <td>metakrr_mk</td>\n",
       "      <td>20</td>\n",
       "      <td>0</td>\n",
       "      <td>[64, 62]</td>\n",
       "      <td>False</td>\n",
       "      <td>0.659326</td>\n",
       "      <td>0.535241</td>\n",
       "      <td>0.288596</td>\n",
       "      <td>/home/prtos/workspace/code/phd/few_shot_regres...</td>\n",
       "      <td>0.860911</td>\n",
       "    </tr>\n",
       "    <tr>\n",
       "      <th>1</th>\n",
       "      <td>/home/prtos/workspace/code/phd/few_shot_regres...</td>\n",
       "      <td>metakrr_mk</td>\n",
       "      <td>5</td>\n",
       "      <td>0</td>\n",
       "      <td>[64, 62]</td>\n",
       "      <td>True</td>\n",
       "      <td>0.648998</td>\n",
       "      <td>0.546071</td>\n",
       "      <td>0.300499</td>\n",
       "      <td>/home/prtos/workspace/code/phd/few_shot_regres...</td>\n",
       "      <td>3.130254</td>\n",
       "    </tr>\n",
       "    <tr>\n",
       "      <th>2</th>\n",
       "      <td>/home/prtos/workspace/code/phd/few_shot_regres...</td>\n",
       "      <td>metakrr_mk</td>\n",
       "      <td>5</td>\n",
       "      <td>2</td>\n",
       "      <td>[128, 128]</td>\n",
       "      <td>True</td>\n",
       "      <td>0.575000</td>\n",
       "      <td>0.618087</td>\n",
       "      <td>0.380300</td>\n",
       "      <td>/home/prtos/workspace/code/phd/few_shot_regres...</td>\n",
       "      <td>3.007996</td>\n",
       "    </tr>\n",
       "    <tr>\n",
       "      <th>3</th>\n",
       "      <td>/home/prtos/workspace/code/phd/few_shot_regres...</td>\n",
       "      <td>metakrr_mk</td>\n",
       "      <td>20</td>\n",
       "      <td>0</td>\n",
       "      <td>[128, 128]</td>\n",
       "      <td>True</td>\n",
       "      <td>0.597302</td>\n",
       "      <td>0.598197</td>\n",
       "      <td>0.356349</td>\n",
       "      <td>/home/prtos/workspace/code/phd/few_shot_regres...</td>\n",
       "      <td>3.066720</td>\n",
       "    </tr>\n",
       "    <tr>\n",
       "      <th>4</th>\n",
       "      <td>/home/prtos/workspace/code/phd/few_shot_regres...</td>\n",
       "      <td>metakrr_mk</td>\n",
       "      <td>5</td>\n",
       "      <td>0</td>\n",
       "      <td>[128, 128]</td>\n",
       "      <td>False</td>\n",
       "      <td>0.551095</td>\n",
       "      <td>0.640246</td>\n",
       "      <td>0.409815</td>\n",
       "      <td>/home/prtos/workspace/code/phd/few_shot_regres...</td>\n",
       "      <td>0.870811</td>\n",
       "    </tr>\n",
       "  </tbody>\n",
       "</table>\n",
       "</div>"
      ],
      "text/plain": [
       "                                         events_file  model_name hidden_dim  \\\n",
       "0  /home/prtos/workspace/code/phd/few_shot_regres...  metakrr_mk         20   \n",
       "1  /home/prtos/workspace/code/phd/few_shot_regres...  metakrr_mk          5   \n",
       "2  /home/prtos/workspace/code/phd/few_shot_regres...  metakrr_mk          5   \n",
       "3  /home/prtos/workspace/code/phd/few_shot_regres...  metakrr_mk         20   \n",
       "4  /home/prtos/workspace/code/phd/few_shot_regres...  metakrr_mk          5   \n",
       "\n",
       "  num_layers hidden_sizes use_improvement_loss       mse       pcc        r2  \\\n",
       "0          0     [64, 62]                False  0.659326  0.535241  0.288596   \n",
       "1          0     [64, 62]                 True  0.648998  0.546071  0.300499   \n",
       "2          2   [128, 128]                 True  0.575000  0.618087  0.380300   \n",
       "3          0   [128, 128]                 True  0.597302  0.598197  0.356349   \n",
       "4          0   [128, 128]                False  0.551095  0.640246  0.409815   \n",
       "\n",
       "                                       tboard_folder  val_loss  \n",
       "0  /home/prtos/workspace/code/phd/few_shot_regres...  0.860911  \n",
       "1  /home/prtos/workspace/code/phd/few_shot_regres...  3.130254  \n",
       "2  /home/prtos/workspace/code/phd/few_shot_regres...  3.007996  \n",
       "3  /home/prtos/workspace/code/phd/few_shot_regres...  3.066720  \n",
       "4  /home/prtos/workspace/code/phd/few_shot_regres...  0.870811  "
      ]
     },
     "metadata": {},
     "output_type": "display_data"
    },
    {
     "name": "stdout",
     "output_type": "stream",
     "text": [
      "(18, 11)\n"
     ]
    }
   ],
   "source": [
    "resdata, test_filenames = get_result_summaries(res_folder)\n",
    "# resdata = resdata[resdata.model_name == 'cnp']\n",
    "display(resdata.head())\n",
    "print(resdata.shape)"
   ]
  },
  {
   "cell_type": "code",
   "execution_count": 4,
   "metadata": {},
   "outputs": [
    {
     "data": {
      "application/vnd.jupyter.widget-view+json": {
       "model_id": "327a27bea42c495889f03e005a8fd58b",
       "version_major": 2,
       "version_minor": 0
      },
      "text/plain": [
       "interactive(children=(Dropdown(description='Metric', options=('mse', 'r2', 'pcc', 'val_loss'), value='mse'), D…"
      ]
     },
     "metadata": {},
     "output_type": "display_data"
    },
    {
     "data": {
      "text/plain": [
       "<function __main__.<lambda>(**x)>"
      ]
     },
     "execution_count": 4,
     "metadata": {},
     "output_type": "execute_result"
    }
   ],
   "source": [
    "widgets = get_metric_heatmap_widgets(resdata, filter_names=['hidden_sizes']) # the metric widget is implicit\n",
    "drawing_func = lambda **x: get_heatmaps(data=resdata,\n",
    "                       heat_column_names=['model_name', 'use_improvement_loss'],\n",
    "                       heat_row_names=['hidden_dim', 'num_layers'], **x)\n",
    "ipywidgets.interact(drawing_func, **widgets)"
   ]
  },
  {
   "cell_type": "code",
   "execution_count": 5,
   "metadata": {},
   "outputs": [
    {
     "name": "stdout",
     "output_type": "stream",
     "text": [
      "{'model_name': 'metakrr_mk', 'hidden_dim': '20', 'hidden_sizes': '[64, 62]', 'num_layers': '0', 'use_improvement_loss': 'False'}\n",
      "{'model_name': 'metakrr_mk', 'hidden_dim': '5', 'hidden_sizes': '[64, 62]', 'num_layers': '0', 'use_improvement_loss': 'True'}\n",
      "{'model_name': 'metakrr_mk', 'hidden_dim': '5', 'hidden_sizes': '[128, 128]', 'num_layers': '2', 'use_improvement_loss': 'True'}\n",
      "{'model_name': 'metakrr_mk', 'hidden_dim': '20', 'hidden_sizes': '[128, 128]', 'num_layers': '0', 'use_improvement_loss': 'True'}\n",
      "{'model_name': 'metakrr_mk', 'hidden_dim': '5', 'hidden_sizes': '[128, 128]', 'num_layers': '0', 'use_improvement_loss': 'False'}\n",
      "{'model_name': 'metakrr_mk', 'hidden_dim': '5', 'hidden_sizes': '[128, 128]', 'num_layers': '0', 'use_improvement_loss': 'True'}\n",
      "{'model_name': 'metakrr_mk', 'hidden_dim': '5', 'hidden_sizes': '[64, 62]', 'num_layers': '0', 'use_improvement_loss': 'False'}\n",
      "{'model_name': 'metakrr_mk', 'hidden_dim': '5', 'hidden_sizes': '[64, 62]', 'num_layers': '2', 'use_improvement_loss': 'False'}\n",
      "{'model_name': 'metakrr_mk', 'hidden_dim': '5', 'hidden_sizes': '[64, 62]', 'num_layers': '2', 'use_improvement_loss': 'True'}\n",
      "{'model_name': 'metakrr_mk', 'hidden_dim': '20', 'hidden_sizes': '[128, 128]', 'num_layers': '2', 'use_improvement_loss': 'False'}\n",
      "{'model_name': 'metakrr_mk', 'hidden_dim': '20', 'hidden_sizes': '[64, 62]', 'num_layers': '2', 'use_improvement_loss': 'False'}\n",
      "{'model_name': 'metakrr_sk', 'hidden_dim': 'None', 'hidden_sizes': '[128, 128]', 'num_layers': 'None', 'use_improvement_loss': 'None'}\n",
      "{'model_name': 'metakrr_mk', 'hidden_dim': '20', 'hidden_sizes': '[128, 128]', 'num_layers': '2', 'use_improvement_loss': 'True'}\n",
      "{'model_name': 'metakrr_mk', 'hidden_dim': '20', 'hidden_sizes': '[64, 62]', 'num_layers': '0', 'use_improvement_loss': 'True'}\n",
      "{'model_name': 'metakrr_sk', 'hidden_dim': 'None', 'hidden_sizes': '[64, 62]', 'num_layers': 'None', 'use_improvement_loss': 'None'}\n",
      "{'model_name': 'metakrr_mk', 'hidden_dim': '20', 'hidden_sizes': '[128, 128]', 'num_layers': '0', 'use_improvement_loss': 'False'}\n",
      "{'model_name': 'metakrr_mk', 'hidden_dim': '5', 'hidden_sizes': '[128, 128]', 'num_layers': '2', 'use_improvement_loss': 'False'}\n",
      "{'model_name': 'metakrr_mk', 'hidden_dim': '20', 'hidden_sizes': '[64, 62]', 'num_layers': '2', 'use_improvement_loss': 'True'}\n"
     ]
    },
    {
     "data": {
      "application/vnd.jupyter.widget-view+json": {
       "model_id": "dd1ceb7b21e64e61baf58136275be04b",
       "version_major": 2,
       "version_minor": 0
      },
      "text/plain": [
       "interactive(children=(Dropdown(description='Configuration', options=(\"{'model_name': 'metakrr_mk', 'hidden_dim…"
      ]
     },
     "metadata": {},
     "output_type": "display_data"
    },
    {
     "data": {
      "text/plain": [
       "<function __main__.<lambda>(**x)>"
      ]
     },
     "execution_count": 5,
     "metadata": {},
     "output_type": "execute_result"
    }
   ],
   "source": [
    "widgets = get_fitting_curves_widgets(resdata, test_filenames) # the metric widget is implicit\n",
    "drawing_func = lambda **x: plot_fitting_curves(resdata, **x)\n",
    "ipywidgets.interact(drawing_func, **widgets)"
   ]
  },
  {
   "cell_type": "markdown",
   "metadata": {},
   "source": [
    "## Closing thougths and next steps"
   ]
  },
  {
   "cell_type": "markdown",
   "metadata": {},
   "source": [
    "### Next steps and advices from A. Lacoste\n",
    "- Memory for the task representation like in deep prior \n",
    "- - local minima prob: maybe bigger repr (NN may find a manifold)\n",
    "- - train test repr during meta-train \n",
    "- - need a lot of tasks to learn the whole thing\n",
    "- memory + task encoder: an alternative (regularize with KL and posterior)?\n",
    "- play with the size of the task repr (min 5) (priority\n",
    "- read proto-MAML (think about proto MetaKRR)\n",
    "- experiments with proteins "
   ]
  }
 ],
 "metadata": {
  "kernelspec": {
   "display_name": "invivo",
   "language": "python",
   "name": "invivo"
  },
  "language_info": {
   "codemirror_mode": {
    "name": "ipython",
    "version": 3
   },
   "file_extension": ".py",
   "mimetype": "text/x-python",
   "name": "python",
   "nbconvert_exporter": "python",
   "pygments_lexer": "ipython3",
   "version": "3.6.8"
  }
 },
 "nbformat": 4,
 "nbformat_minor": 2
}
