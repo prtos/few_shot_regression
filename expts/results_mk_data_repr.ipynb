{
 "cells": [
  {
   "cell_type": "markdown",
   "metadata": {},
   "source": [
    "## Result for conditioning of the metakrr_mk using harmonic datasets"
   ]
  },
  {
   "cell_type": "markdown",
   "metadata": {},
   "source": [
    "### Abstract\n",
    "In this experiement, we focus on comparing different ways of obtaining support set representations.\n",
    "We also compare MetakRR with Conditional neural process (CNP) and Bayesian MAML (BMAML, not finished yet).\n",
    "We only use the harmonic meta-dataset for this experiment.\n",
    "Recall that this dataset consists of two sin functions added to generate a harmonic function. A function gives a learning task and all tasks differ from each others by the phases and amplitudes and the frequences of the sin functions combined.\n",
    "\n",
    "To compute the support set representation, we tested the following architectures:\n",
    "- deepset, a MLP based network with order invariance proposed by https://papers.nips.cc/paper/6931-deep-sets.pdf\n",
    "- set2set, an lstm based network proposed by https://arxiv.org/abs/1511.06391\n",
    "- multihead attention (from attention is all you need)\n",
    "- simple attention (from neural machine translation)\n",
    "- relation net with average pooling\n",
    "- relation net with attention pooling\n",
    "- relation net with deepset pooling\n",
    "\n",
    "Once the support set representation are computed, we use the fusion network to compute the conditionned input representation:\n",
    "+ fusion net $f([\\phi(x); z])$: where $[a; b]$ is the concatenation of the vectors $a$ and $b$; and $f$ is neural network \n"
   ]
  },
  {
   "cell_type": "code",
   "execution_count": 9,
   "metadata": {},
   "outputs": [],
   "source": [
    "from analysis_utils import *"
   ]
  },
  {
   "cell_type": "code",
   "execution_count": 10,
   "metadata": {},
   "outputs": [],
   "source": [
    "res_folder = os.path.abspath('./dataset_repr/results/')"
   ]
  },
  {
   "cell_type": "markdown",
   "metadata": {},
   "source": [
    "## Analysis of the validation lost and the meta-test performances"
   ]
  },
  {
   "cell_type": "code",
   "execution_count": 11,
   "metadata": {},
   "outputs": [
    {
     "data": {
      "text/html": [
       "<div>\n",
       "<style scoped>\n",
       "    .dataframe tbody tr th:only-of-type {\n",
       "        vertical-align: middle;\n",
       "    }\n",
       "\n",
       "    .dataframe tbody tr th {\n",
       "        vertical-align: top;\n",
       "    }\n",
       "\n",
       "    .dataframe thead th {\n",
       "        text-align: right;\n",
       "    }\n",
       "</style>\n",
       "<table border=\"1\" class=\"dataframe\">\n",
       "  <thead>\n",
       "    <tr style=\"text-align: right;\">\n",
       "      <th></th>\n",
       "      <th>events_file</th>\n",
       "      <th>n_epochs</th>\n",
       "      <th>model_name</th>\n",
       "      <th>condition_on</th>\n",
       "      <th>conditioner_mode</th>\n",
       "      <th>arch</th>\n",
       "      <th>num_layers</th>\n",
       "      <th>decoder_hidden_sizes</th>\n",
       "      <th>mse</th>\n",
       "      <th>pcc</th>\n",
       "      <th>r2</th>\n",
       "      <th>tboard_folder</th>\n",
       "      <th>val_loss</th>\n",
       "    </tr>\n",
       "  </thead>\n",
       "  <tbody>\n",
       "    <tr>\n",
       "      <th>0</th>\n",
       "      <td>/home/prtos/workspace/code/phd/few_shot_regres...</td>\n",
       "      <td>200</td>\n",
       "      <td>metakrr_mk</td>\n",
       "      <td>train</td>\n",
       "      <td>fusion</td>\n",
       "      <td>relation_net</td>\n",
       "      <td>1</td>\n",
       "      <td>None</td>\n",
       "      <td>0.566886</td>\n",
       "      <td>0.648289</td>\n",
       "      <td>0.420020</td>\n",
       "      <td>/home/prtos/workspace/code/phd/few_shot_regres...</td>\n",
       "      <td>0.546399</td>\n",
       "    </tr>\n",
       "    <tr>\n",
       "      <th>1</th>\n",
       "      <td>/home/prtos/workspace/code/phd/few_shot_regres...</td>\n",
       "      <td>200</td>\n",
       "      <td>metakrr_mk</td>\n",
       "      <td>train</td>\n",
       "      <td>fusion</td>\n",
       "      <td>deepset</td>\n",
       "      <td>1</td>\n",
       "      <td>None</td>\n",
       "      <td>0.566359</td>\n",
       "      <td>0.648044</td>\n",
       "      <td>0.420310</td>\n",
       "      <td>/home/prtos/workspace/code/phd/few_shot_regres...</td>\n",
       "      <td>0.542440</td>\n",
       "    </tr>\n",
       "    <tr>\n",
       "      <th>2</th>\n",
       "      <td>/home/prtos/workspace/code/phd/few_shot_regres...</td>\n",
       "      <td>200</td>\n",
       "      <td>metakrr_mk</td>\n",
       "      <td>both</td>\n",
       "      <td>fusion</td>\n",
       "      <td>relation_net</td>\n",
       "      <td>2</td>\n",
       "      <td>None</td>\n",
       "      <td>0.123151</td>\n",
       "      <td>0.935614</td>\n",
       "      <td>0.869664</td>\n",
       "      <td>/home/prtos/workspace/code/phd/few_shot_regres...</td>\n",
       "      <td>0.131452</td>\n",
       "    </tr>\n",
       "    <tr>\n",
       "      <th>3</th>\n",
       "      <td>/home/prtos/workspace/code/phd/few_shot_regres...</td>\n",
       "      <td>100</td>\n",
       "      <td>metakrr_mk</td>\n",
       "      <td>train</td>\n",
       "      <td>fusion</td>\n",
       "      <td>relation_net_mean</td>\n",
       "      <td>2</td>\n",
       "      <td>None</td>\n",
       "      <td>0.564425</td>\n",
       "      <td>0.649444</td>\n",
       "      <td>0.422210</td>\n",
       "      <td>/home/prtos/workspace/code/phd/few_shot_regres...</td>\n",
       "      <td>0.540217</td>\n",
       "    </tr>\n",
       "    <tr>\n",
       "      <th>4</th>\n",
       "      <td>/home/prtos/workspace/code/phd/few_shot_regres...</td>\n",
       "      <td>100</td>\n",
       "      <td>metakrr_mk</td>\n",
       "      <td>both</td>\n",
       "      <td>fusion</td>\n",
       "      <td>set2set</td>\n",
       "      <td>3</td>\n",
       "      <td>None</td>\n",
       "      <td>0.039063</td>\n",
       "      <td>0.980749</td>\n",
       "      <td>0.958226</td>\n",
       "      <td>/home/prtos/workspace/code/phd/few_shot_regres...</td>\n",
       "      <td>0.038360</td>\n",
       "    </tr>\n",
       "  </tbody>\n",
       "</table>\n",
       "</div>"
      ],
      "text/plain": [
       "                                         events_file n_epochs  model_name  \\\n",
       "0  /home/prtos/workspace/code/phd/few_shot_regres...      200  metakrr_mk   \n",
       "1  /home/prtos/workspace/code/phd/few_shot_regres...      200  metakrr_mk   \n",
       "2  /home/prtos/workspace/code/phd/few_shot_regres...      200  metakrr_mk   \n",
       "3  /home/prtos/workspace/code/phd/few_shot_regres...      100  metakrr_mk   \n",
       "4  /home/prtos/workspace/code/phd/few_shot_regres...      100  metakrr_mk   \n",
       "\n",
       "  condition_on conditioner_mode               arch num_layers  \\\n",
       "0        train           fusion       relation_net          1   \n",
       "1        train           fusion            deepset          1   \n",
       "2         both           fusion       relation_net          2   \n",
       "3        train           fusion  relation_net_mean          2   \n",
       "4         both           fusion            set2set          3   \n",
       "\n",
       "  decoder_hidden_sizes       mse       pcc        r2  \\\n",
       "0                 None  0.566886  0.648289  0.420020   \n",
       "1                 None  0.566359  0.648044  0.420310   \n",
       "2                 None  0.123151  0.935614  0.869664   \n",
       "3                 None  0.564425  0.649444  0.422210   \n",
       "4                 None  0.039063  0.980749  0.958226   \n",
       "\n",
       "                                       tboard_folder  val_loss  \n",
       "0  /home/prtos/workspace/code/phd/few_shot_regres...  0.546399  \n",
       "1  /home/prtos/workspace/code/phd/few_shot_regres...  0.542440  \n",
       "2  /home/prtos/workspace/code/phd/few_shot_regres...  0.131452  \n",
       "3  /home/prtos/workspace/code/phd/few_shot_regres...  0.540217  \n",
       "4  /home/prtos/workspace/code/phd/few_shot_regres...  0.038360  "
      ]
     },
     "metadata": {},
     "output_type": "display_data"
    },
    {
     "name": "stdout",
     "output_type": "stream",
     "text": [
      "(50, 13)\n"
     ]
    },
    {
     "data": {
      "application/vnd.jupyter.widget-view+json": {
       "model_id": "46fd3df86a21467fa43cdbdd0f845627",
       "version_major": 2,
       "version_minor": 0
      },
      "text/plain": [
       "interactive(children=(Dropdown(description='Metric', options=('mse', 'r2', 'pcc', 'val_loss'), value='mse'), D…"
      ]
     },
     "metadata": {},
     "output_type": "display_data"
    },
    {
     "data": {
      "text/plain": [
       "<function __main__.<lambda>(**x)>"
      ]
     },
     "execution_count": 11,
     "metadata": {},
     "output_type": "execute_result"
    }
   ],
   "source": [
    "resdata, test_filenames = get_result_summaries(res_folder)\n",
    "# resdata = resdata[resdata.model_name == 'cnp']\n",
    "display(resdata.head())\n",
    "print(resdata.shape)\n",
    "widgets = get_widgets(resdata, filter_names=['condition_on']) # the metric widget is implicit\n",
    "drawing_func = lambda **x: get_heatmaps(data=resdata,\n",
    "                       heat_column_names=['num_layers'],\n",
    "                       heat_row_names=['arch'], **x)\n",
    "\n",
    "ipywidgets.interact(drawing_func, **widgets)"
   ]
  },
  {
   "cell_type": "code",
   "execution_count": null,
   "metadata": {},
   "outputs": [],
   "source": []
  },
  {
   "cell_type": "code",
   "execution_count": 12,
   "metadata": {},
   "outputs": [
    {
     "data": {
      "application/vnd.jupyter.widget-view+json": {
       "model_id": "99ae894922064fa9bd4290b929e3b29f",
       "version_major": 2,
       "version_minor": 0
      },
      "text/plain": [
       "interactive(children=(Dropdown(description='Condition on', options=('train', '_none', 'descr', 'both'), value=…"
      ]
     },
     "metadata": {},
     "output_type": "display_data"
    },
    {
     "data": {
      "text/plain": [
       "<function __main__.<lambda>(**x)>"
      ]
     },
     "execution_count": 12,
     "metadata": {},
     "output_type": "execute_result"
    }
   ],
   "source": [
    "widgets = get_test_fitting_curves_widgets(resdata, test_filenames) # the metric widget is implicit\n",
    "drawing_func = lambda **x: plot_fitting_curves(resdata, **x)\n",
    "\n",
    "ipywidgets.interact(drawing_func, **widgets)"
   ]
  },
  {
   "cell_type": "markdown",
   "metadata": {},
   "source": [
    "## Closing thougths and next steps"
   ]
  },
  {
   "cell_type": "markdown",
   "metadata": {},
   "source": [
    "### Next steps and advices from A. Lacoste\n",
    "- Memory for the task representation like in deep prior \n",
    "- - local minima prob: maybe bigger repr (NN may find a manifold)\n",
    "- - train test repr during meta-train \n",
    "- - need a lot of tasks to learn the whole thing\n",
    "- memory + task encoder: an alternative (regularize with KL and posterior)?\n",
    "- play with the size of the task repr (min 5) (priority\n",
    "- read proto-MAML (think about proto MetaKRR)\n",
    "- experiments with proteins "
   ]
  }
 ],
 "metadata": {
  "kernelspec": {
   "display_name": "invivo",
   "language": "python",
   "name": "invivo"
  },
  "language_info": {
   "codemirror_mode": {
    "name": "ipython",
    "version": 3
   },
   "file_extension": ".py",
   "mimetype": "text/x-python",
   "name": "python",
   "nbconvert_exporter": "python",
   "pygments_lexer": "ipython3",
   "version": "3.6.8"
  }
 },
 "nbformat": 4,
 "nbformat_minor": 2
}
