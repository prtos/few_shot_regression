{
 "cells": [
  {
   "cell_type": "markdown",
   "metadata": {},
   "source": [
    "## Compiling result for the fail fast experiments of the metakrr_mk using easy harmonic datasets"
   ]
  },
  {
   "cell_type": "markdown",
   "metadata": {},
   "source": [
    "### Abstract\n",
    "In this experiement, we compare MetaKRR single kernel (SK) with MetaKRR multi kernel (MK) using the meta-dataset easy harmonics.\n",
    "We also explore different versions of MK to determine what is the best way to condition on a task.\n",
    "\n",
    "Let's $z$ be the task representation. \n",
    "Two alternatives were explored to get $z$ herein :\n",
    "- predefined task descriptor given by the data distribution that generates the task\n",
    "- encoding of the training set of each episode/task using a neural network\n",
    "\n",
    "And three methods were considered to adapt the shared feature extractor $\\phi(x)$ to each task/episode:\n",
    "+ fusion net $f([\\phi(x); z])$: where $[a; b]$ is the concatenation of the vectors $a$ and $b$; and $f$ is neural network \n",
    "+ gated modulation: $f(\\phi(x), z) = \\phi(x) \\cdot z $ where $\\cdot$ is the element-wise multiplication and $\\sigma$ is the sigmoid activation function\n",
    "+ Film modulation: A Feature-wise Linear Modulation proposed [here](https://arxiv.org/pdf/1709.07871.pdf)\n",
    "\n",
    "\n"
   ]
  },
  {
   "cell_type": "code",
   "execution_count": 1,
   "metadata": {},
   "outputs": [
    {
     "name": "stderr",
     "output_type": "stream",
     "text": [
      "/home/prtos/anaconda3/envs/invivo/lib/python3.6/site-packages/matplotlib/__init__.py:886: MatplotlibDeprecationWarning: \n",
      "examples.directory is deprecated; in the future, examples will be found relative to the 'datapath' directory.\n",
      "  \"found relative to the 'datapath' directory.\".format(key))\n"
     ]
    }
   ],
   "source": [
    "from analysis_utils import *"
   ]
  },
  {
   "cell_type": "code",
   "execution_count": 2,
   "metadata": {},
   "outputs": [],
   "source": [
    "res_folder = os.path.abspath('./dataset_repr/results/')"
   ]
  },
  {
   "cell_type": "markdown",
   "metadata": {},
   "source": [
    "## Analysis of the validation lost and the meta-test performances"
   ]
  },
  {
   "cell_type": "code",
   "execution_count": 3,
   "metadata": {},
   "outputs": [
    {
     "data": {
      "text/html": [
       "<div>\n",
       "<style scoped>\n",
       "    .dataframe tbody tr th:only-of-type {\n",
       "        vertical-align: middle;\n",
       "    }\n",
       "\n",
       "    .dataframe tbody tr th {\n",
       "        vertical-align: top;\n",
       "    }\n",
       "\n",
       "    .dataframe thead th {\n",
       "        text-align: right;\n",
       "    }\n",
       "</style>\n",
       "<table border=\"1\" class=\"dataframe\">\n",
       "  <thead>\n",
       "    <tr style=\"text-align: right;\">\n",
       "      <th></th>\n",
       "      <th>events_file</th>\n",
       "      <th>condition_on</th>\n",
       "      <th>conditioner_mode</th>\n",
       "      <th>arch</th>\n",
       "      <th>num_layers</th>\n",
       "      <th>mse</th>\n",
       "      <th>pcc</th>\n",
       "      <th>r2</th>\n",
       "      <th>tboard_folder</th>\n",
       "      <th>val_loss</th>\n",
       "    </tr>\n",
       "  </thead>\n",
       "  <tbody>\n",
       "    <tr>\n",
       "      <th>0</th>\n",
       "      <td>/home/prtos/workspace/code/phd/few_shot_regres...</td>\n",
       "      <td>train</td>\n",
       "      <td>fusion</td>\n",
       "      <td>relation_net_mean</td>\n",
       "      <td>2</td>\n",
       "      <td>0.564425</td>\n",
       "      <td>0.649444</td>\n",
       "      <td>0.422210</td>\n",
       "      <td>/home/prtos/workspace/code/phd/few_shot_regres...</td>\n",
       "      <td>0.540217</td>\n",
       "    </tr>\n",
       "    <tr>\n",
       "      <th>1</th>\n",
       "      <td>/home/prtos/workspace/code/phd/few_shot_regres...</td>\n",
       "      <td>both</td>\n",
       "      <td>fusion</td>\n",
       "      <td>set2set</td>\n",
       "      <td>3</td>\n",
       "      <td>0.039063</td>\n",
       "      <td>0.980749</td>\n",
       "      <td>0.958226</td>\n",
       "      <td>/home/prtos/workspace/code/phd/few_shot_regres...</td>\n",
       "      <td>0.038360</td>\n",
       "    </tr>\n",
       "    <tr>\n",
       "      <th>2</th>\n",
       "      <td>/home/prtos/workspace/code/phd/few_shot_regres...</td>\n",
       "      <td>train</td>\n",
       "      <td>fusion</td>\n",
       "      <td>simple_attention</td>\n",
       "      <td>1</td>\n",
       "      <td>0.559035</td>\n",
       "      <td>0.654817</td>\n",
       "      <td>0.428815</td>\n",
       "      <td>/home/prtos/workspace/code/phd/few_shot_regres...</td>\n",
       "      <td>0.534206</td>\n",
       "    </tr>\n",
       "    <tr>\n",
       "      <th>3</th>\n",
       "      <td>/home/prtos/workspace/code/phd/few_shot_regres...</td>\n",
       "      <td>both</td>\n",
       "      <td>fusion</td>\n",
       "      <td>multihead_attention</td>\n",
       "      <td>3</td>\n",
       "      <td>0.198537</td>\n",
       "      <td>0.883683</td>\n",
       "      <td>0.787229</td>\n",
       "      <td>/home/prtos/workspace/code/phd/few_shot_regres...</td>\n",
       "      <td>0.206233</td>\n",
       "    </tr>\n",
       "    <tr>\n",
       "      <th>4</th>\n",
       "      <td>/home/prtos/workspace/code/phd/few_shot_regres...</td>\n",
       "      <td>train</td>\n",
       "      <td>fusion</td>\n",
       "      <td>set2set</td>\n",
       "      <td>2</td>\n",
       "      <td>0.628107</td>\n",
       "      <td>0.594471</td>\n",
       "      <td>0.352865</td>\n",
       "      <td>/home/prtos/workspace/code/phd/few_shot_regres...</td>\n",
       "      <td>0.616748</td>\n",
       "    </tr>\n",
       "  </tbody>\n",
       "</table>\n",
       "</div>"
      ],
      "text/plain": [
       "                                         events_file condition_on  \\\n",
       "0  /home/prtos/workspace/code/phd/few_shot_regres...        train   \n",
       "1  /home/prtos/workspace/code/phd/few_shot_regres...         both   \n",
       "2  /home/prtos/workspace/code/phd/few_shot_regres...        train   \n",
       "3  /home/prtos/workspace/code/phd/few_shot_regres...         both   \n",
       "4  /home/prtos/workspace/code/phd/few_shot_regres...        train   \n",
       "\n",
       "  conditioner_mode                 arch num_layers       mse       pcc  \\\n",
       "0           fusion    relation_net_mean          2  0.564425  0.649444   \n",
       "1           fusion              set2set          3  0.039063  0.980749   \n",
       "2           fusion     simple_attention          1  0.559035  0.654817   \n",
       "3           fusion  multihead_attention          3  0.198537  0.883683   \n",
       "4           fusion              set2set          2  0.628107  0.594471   \n",
       "\n",
       "         r2                                      tboard_folder  val_loss  \n",
       "0  0.422210  /home/prtos/workspace/code/phd/few_shot_regres...  0.540217  \n",
       "1  0.958226  /home/prtos/workspace/code/phd/few_shot_regres...  0.038360  \n",
       "2  0.428815  /home/prtos/workspace/code/phd/few_shot_regres...  0.534206  \n",
       "3  0.787229  /home/prtos/workspace/code/phd/few_shot_regres...  0.206233  \n",
       "4  0.352865  /home/prtos/workspace/code/phd/few_shot_regres...  0.616748  "
      ]
     },
     "metadata": {},
     "output_type": "display_data"
    },
    {
     "name": "stdout",
     "output_type": "stream",
     "text": [
      "(35, 10)\n"
     ]
    },
    {
     "data": {
      "application/vnd.jupyter.widget-view+json": {
       "model_id": "0ca75785c73f4ceb860144406a3c2b3f",
       "version_major": 2,
       "version_minor": 0
      },
      "text/plain": [
       "interactive(children=(Dropdown(description='Metric', options=('mse', 'r2', 'pcc', 'val_loss'), value='mse'), D…"
      ]
     },
     "metadata": {},
     "output_type": "display_data"
    },
    {
     "data": {
      "text/plain": [
       "<function __main__.<lambda>(**x)>"
      ]
     },
     "execution_count": 3,
     "metadata": {},
     "output_type": "execute_result"
    }
   ],
   "source": [
    "resdata, test_filenames = get_result_summaries(res_folder)\n",
    "display(resdata.head())\n",
    "print(resdata.shape)\n",
    "widgets = get_widgets(resdata, filter_names=['condition_on']) # the metric widget is implicit\n",
    "drawing_func = lambda **x: get_heatmaps(data=resdata,\n",
    "                       heat_column_names=['num_layers'],\n",
    "                       heat_row_names=['arch'], **x)\n",
    "\n",
    "ipywidgets.interact(drawing_func, **widgets)"
   ]
  },
  {
   "cell_type": "code",
   "execution_count": null,
   "metadata": {},
   "outputs": [],
   "source": []
  },
  {
   "cell_type": "code",
   "execution_count": 4,
   "metadata": {},
   "outputs": [
    {
     "data": {
      "application/vnd.jupyter.widget-view+json": {
       "model_id": "c97f5cb0af6e4b638d11d7ba06873ba1",
       "version_major": 2,
       "version_minor": 0
      },
      "text/plain": [
       "interactive(children=(Dropdown(description='Arch', options=('relation_net_mean', 'None', 'multihead_attention'…"
      ]
     },
     "metadata": {},
     "output_type": "display_data"
    },
    {
     "data": {
      "text/plain": [
       "<function __main__.<lambda>(**x)>"
      ]
     },
     "execution_count": 4,
     "metadata": {},
     "output_type": "execute_result"
    }
   ],
   "source": [
    "widgets = get_test_fitting_curves_widgets(resdata, test_filenames) # the metric widget is implicit\n",
    "drawing_func = lambda **x: plot_fitting_curves(resdata, **x)\n",
    "\n",
    "ipywidgets.interact(drawing_func, **widgets)"
   ]
  },
  {
   "cell_type": "markdown",
   "metadata": {},
   "source": [
    "## Closing thougths and next steps"
   ]
  },
  {
   "cell_type": "markdown",
   "metadata": {},
   "source": [
    "### Results\n",
    "+ Overall conditionning on the task is very helpfull for this meta-dataset\n",
    "+ No clear winner between alternatives to obtain the task representations\n",
    "+ The method of conditionning seems to be very important though: \n",
    "    + The fusion net seems to outperform the two other alternatives explored\n",
    "    + The poor performance of Film  may be related to a gradient propagation problem\n",
    "\n",
    "### Next steps and advices from A. Lacoste\n",
    "- Film multiple layers \n",
    "- More complex network and test squeeze and excite again\n",
    "- Eval extrapolation: not mandatory\n",
    "- Encoding of pairs of train samples and do self attention. Transformer and relationNet (Priority)\n",
    "- query and support set vocab instead of train/test vocab\n",
    "- Batch norm for adam regrularization\n",
    "- lr cv for on set on hp\n",
    "- Baselines: Deep Prior, Conditional neural process(CNP), Bayesian MAML (Priority)\n",
    "- Send test fitting curves to Alex and include them in your notbooks at the next steps"
   ]
  }
 ],
 "metadata": {
  "kernelspec": {
   "display_name": "invivo",
   "language": "python",
   "name": "invivo"
  },
  "language_info": {
   "codemirror_mode": {
    "name": "ipython",
    "version": 3
   },
   "file_extension": ".py",
   "mimetype": "text/x-python",
   "name": "python",
   "nbconvert_exporter": "python",
   "pygments_lexer": "ipython3",
   "version": "3.6.8"
  }
 },
 "nbformat": 4,
 "nbformat_minor": 2
}
