{
 "cells": [
  {
   "cell_type": "markdown",
   "metadata": {},
   "source": [
    "## Compiling result for the fail fast experiments of the metakrr_mk using easy harmonic datasets"
   ]
  },
  {
   "cell_type": "markdown",
   "metadata": {},
   "source": [
    "### Abstract\n",
    "In this experiement, we compare MetaKRR single kernel (SK) with MetaKRR multi kernel (MK) using the meta-dataset easy harmonics.\n",
    "We also explore different versions of MK to determine what is the best way to condition on a task.\n",
    "\n",
    "Let's $z$ be the task representation. \n",
    "Two alternatives were explored to get $z$ herein :\n",
    "- predefined task descriptor given by the data distribution that generates the task\n",
    "- encoding of the training set of each episode/task using a neural network\n",
    "\n",
    "And three methods were considered to adapt the shared feature extractor $\\phi(x)$ to each task/episode:\n",
    "+ fusion net $f([\\phi(x); z])$: where $[a; b]$ is the concatenation of the vectors $a$ and $b$; and $f$ is neural network \n",
    "+ gated modulation: $f(\\phi(x), z) = \\phi(x) \\cdot z $ where $\\cdot$ is the element-wise multiplication and $\\sigma$ is the sigmoid activation function\n",
    "+ Film modulation: A Feature-wise Linear Modulation proposed [here](https://arxiv.org/pdf/1709.07871.pdf)\n",
    "\n",
    "\n"
   ]
  },
  {
   "cell_type": "code",
   "execution_count": 1,
   "metadata": {},
   "outputs": [
    {
     "name": "stderr",
     "output_type": "stream",
     "text": [
      "/home/prtos/anaconda3/envs/invivo/lib/python3.6/site-packages/matplotlib/__init__.py:886: MatplotlibDeprecationWarning: \n",
      "examples.directory is deprecated; in the future, examples will be found relative to the 'datapath' directory.\n",
      "  \"found relative to the 'datapath' directory.\".format(key))\n"
     ]
    }
   ],
   "source": [
    "from analysis_utils import *"
   ]
  },
  {
   "cell_type": "code",
   "execution_count": 2,
   "metadata": {},
   "outputs": [],
   "source": [
    "res_folder = os.path.abspath('./reg_and_cond/results/')"
   ]
  },
  {
   "cell_type": "markdown",
   "metadata": {},
   "source": [
    "## Analysis of the validation lost and the meta-test performances"
   ]
  },
  {
   "cell_type": "code",
   "execution_count": 3,
   "metadata": {},
   "outputs": [
    {
     "data": {
      "application/vnd.jupyter.widget-view+json": {
       "model_id": "c8384f811ee2432da849d75f008d95a8",
       "version_major": 2,
       "version_minor": 0
      },
      "text/plain": [
       "interactive(children=(Dropdown(description='Metric', options=('mse', 'r2', 'pcc', 'val_loss'), value='mse'), D…"
      ]
     },
     "metadata": {},
     "output_type": "display_data"
    },
    {
     "data": {
      "text/plain": [
       "<function __main__.<lambda>(**x)>"
      ]
     },
     "execution_count": 3,
     "metadata": {},
     "output_type": "execute_result"
    }
   ],
   "source": [
    "resdata = get_result_summaries(res_folder)\n",
    "widgets = get_widgets(resdata, filter_names=['dataset_name', 'condition_on']) # the metric widget is implicit\n",
    "drawing_func = lambda **x: get_heatmaps(data=resdata,\n",
    "                       heat_column_names=['regularize_dataencoder', 'dataenc_beta'],\n",
    "                       heat_row_names=['conditioner_mode'], **x)\n",
    "\n",
    "ipywidgets.interact(drawing_func, **widgets)"
   ]
  },
  {
   "cell_type": "markdown",
   "metadata": {},
   "source": [
    "## Closing thougths and next steps"
   ]
  },
  {
   "cell_type": "markdown",
   "metadata": {},
   "source": [
    "### Results\n",
    "+ Overall conditionning on the task is very helpfull for this meta-dataset\n",
    "+ No clear winner between alternatives to obtain the task representations\n",
    "+ The method of conditionning seems to be very important though: \n",
    "    + The fusion net seems to outperform the two other alternatives explored\n",
    "    + The poor performance of Film  may be related to a gradient propagation problem\n",
    "\n",
    "### Next steps and advices from A. Lacoste\n",
    "- Film multiple layers \n",
    "- More complex network and test squeeze and excite again\n",
    "- Eval extrapolation: not mandatory\n",
    "- Encoding of pairs of train samples and do self attention. Transformer and relationNet (Priority)\n",
    "- query and support set vocab instead of train/test vocab\n",
    "- Batch norm for adam regrularization\n",
    "- lr cv for on set on hp\n",
    "- Baselines: Deep Prior, Conditional neural process(CNP), Bayesian MAML (Priority)\n",
    "- Send test fitting curves to Alex and include them in your notbooks at the next steps"
   ]
  }
 ],
 "metadata": {
  "kernelspec": {
   "display_name": "invivo",
   "language": "python",
   "name": "invivo"
  },
  "language_info": {
   "codemirror_mode": {
    "name": "ipython",
    "version": 3
   },
   "file_extension": ".py",
   "mimetype": "text/x-python",
   "name": "python",
   "nbconvert_exporter": "python",
   "pygments_lexer": "ipython3",
   "version": "3.6.8"
  }
 },
 "nbformat": 4,
 "nbformat_minor": 2
}
