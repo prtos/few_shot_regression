{
 "cells": [
  {
   "cell_type": "markdown",
   "metadata": {},
   "source": [
    "## Result compilation 1 :fail fast experiments of metakrr_mk using easy harmonic datasets"
   ]
  },
  {
   "cell_type": "markdown",
   "metadata": {},
   "source": [
    "### Summary\n",
    "In this experiement, we compare MetaKRR single kernel (SK) with MetaKRR multi kernel (MK) using the meta-dataset easy harmonics (Only 2 harmonic with a fixed frequence, only phases and amplitude are varied).\n",
    "We also explore different versions of MK to determine what is the best way to condition on a task.\n",
    "\n",
    "Let's $z$ be the task representation. \n",
    "Three alternatives were explored to get $z$ herein:\n",
    "- task_descr: predefined task descriptor given by the data distribution that generates the task. For example, in esaytoy, the task descriptor is the set of the phases and the amplitudes of the 2 harmonics.\n",
    "- train_data: $z$ is obtained by encoding of the training set of each episode/task using a neural network. The architecture of this is a 3 stage attention network followed by an average pooling layer\n",
    "- both: a combination of the aboves through a concatenation\n",
    "\n",
    "Three methods were considered to adapt the shared feature extractor $\\phi(x)$ to each task/episode:\n",
    "+ fusion net $f(\\phi(x), z) = MLP([\\phi(x); z])$; where $[\\cdot; \\cdot]$ means the concatenation of the vectors and $MLP$ is  a fully connected multi-layer neural network (which output dimension is the same as $\\phi$ output dim).\n",
    "+ gated modulation: $f(\\phi(x), z) = \\phi(x) \\odot \\sigma(z) $; where $\\odot$ is the element-wise multiplication and $\\sigma$ is the sigmoid activation function\n",
    "+ Film modulation: $f(\\phi(x), z) = FiLM(\\phi(x), z) $, where FiLM is a Feature-wise Linear Modulation proposed [here](https://arxiv.org/pdf/1709.07871.pdf)"
   ]
  },
  {
   "cell_type": "markdown",
   "metadata": {},
   "source": [
    "## Look at the validation lost and the meta-test performances"
   ]
  },
  {
   "cell_type": "code",
   "execution_count": 1,
   "metadata": {},
   "outputs": [
    {
     "name": "stderr",
     "output_type": "stream",
     "text": [
      "/home/prtos/anaconda3/envs/invivo/lib/python3.6/site-packages/matplotlib/__init__.py:886: MatplotlibDeprecationWarning: \n",
      "examples.directory is deprecated; in the future, examples will be found relative to the 'datapath' directory.\n",
      "  \"found relative to the 'datapath' directory.\".format(key))\n"
     ]
    }
   ],
   "source": [
    "from analysis_utils import *\n",
    "res_folder = os.path.abspath('./fail_fast_test/results/')"
   ]
  },
  {
   "cell_type": "code",
   "execution_count": 2,
   "metadata": {},
   "outputs": [
    {
     "ename": "IndexError",
     "evalue": "list index out of range",
     "output_type": "error",
     "traceback": [
      "\u001b[0;31m---------------------------------------------------------------------------\u001b[0m",
      "\u001b[0;31mIndexError\u001b[0m                                Traceback (most recent call last)",
      "\u001b[0;32m<ipython-input-2-49f007d018d6>\u001b[0m in \u001b[0;36m<module>\u001b[0;34m\u001b[0m\n\u001b[0;32m----> 1\u001b[0;31m \u001b[0mresdata\u001b[0m \u001b[0;34m=\u001b[0m \u001b[0mget_result_summaries\u001b[0m\u001b[0;34m(\u001b[0m\u001b[0mres_folder\u001b[0m\u001b[0;34m)\u001b[0m\u001b[0;34m\u001b[0m\u001b[0;34m\u001b[0m\u001b[0m\n\u001b[0m\u001b[1;32m      2\u001b[0m \u001b[0mwidgets\u001b[0m \u001b[0;34m=\u001b[0m \u001b[0mget_widgets\u001b[0m\u001b[0;34m(\u001b[0m\u001b[0mresdata\u001b[0m\u001b[0;34m,\u001b[0m \u001b[0mfilter_names\u001b[0m\u001b[0;34m=\u001b[0m\u001b[0;32mNone\u001b[0m\u001b[0;34m)\u001b[0m \u001b[0;31m# the metric widget is implicit\u001b[0m\u001b[0;34m\u001b[0m\u001b[0;34m\u001b[0m\u001b[0m\n\u001b[1;32m      3\u001b[0m drawing_func = lambda **x: get_heatmaps(data=resdata,\n\u001b[1;32m      4\u001b[0m                        \u001b[0mheat_column_names\u001b[0m\u001b[0;34m=\u001b[0m\u001b[0;34m[\u001b[0m\u001b[0;34m'condition_on'\u001b[0m\u001b[0;34m]\u001b[0m\u001b[0;34m,\u001b[0m\u001b[0;34m\u001b[0m\u001b[0;34m\u001b[0m\u001b[0m\n\u001b[1;32m      5\u001b[0m                        heat_row_names=['conditioner_mode'], **x)\n",
      "\u001b[0;32m~/workspace/code/phd/few_shot_regression/expts/analysis_utils.py\u001b[0m in \u001b[0;36mget_result_summaries\u001b[0;34m(results_folder, return_test_filenames)\u001b[0m\n\u001b[1;32m    117\u001b[0m         \u001b[0mres_data\u001b[0m \u001b[0;34m=\u001b[0m  \u001b[0mpd\u001b[0m\u001b[0;34m.\u001b[0m\u001b[0mread_csv\u001b[0m\u001b[0;34m(\u001b[0m\u001b[0mres_file\u001b[0m\u001b[0;34m,\u001b[0m \u001b[0msep\u001b[0m\u001b[0;34m=\u001b[0m\u001b[0;34m'\\t'\u001b[0m\u001b[0;34m)\u001b[0m\u001b[0;34m\u001b[0m\u001b[0;34m\u001b[0m\u001b[0m\n\u001b[1;32m    118\u001b[0m         \u001b[0mtboard_folder\u001b[0m \u001b[0;34m=\u001b[0m \u001b[0mres_file\u001b[0m\u001b[0;34m.\u001b[0m\u001b[0mreplace\u001b[0m\u001b[0;34m(\u001b[0m\u001b[0mres_ext\u001b[0m\u001b[0;34m,\u001b[0m \u001b[0;34m''\u001b[0m\u001b[0;34m)\u001b[0m\u001b[0;34m\u001b[0m\u001b[0;34m\u001b[0m\u001b[0m\n\u001b[0;32m--> 119\u001b[0;31m         \u001b[0mevents_file\u001b[0m \u001b[0;34m=\u001b[0m \u001b[0;34m[\u001b[0m\u001b[0mos\u001b[0m\u001b[0;34m.\u001b[0m\u001b[0mpath\u001b[0m\u001b[0;34m.\u001b[0m\u001b[0mjoin\u001b[0m\u001b[0;34m(\u001b[0m\u001b[0mtboard_folder\u001b[0m\u001b[0;34m,\u001b[0m \u001b[0mf\u001b[0m\u001b[0;34m)\u001b[0m \u001b[0;32mfor\u001b[0m \u001b[0mf\u001b[0m \u001b[0;32min\u001b[0m \u001b[0mos\u001b[0m\u001b[0;34m.\u001b[0m\u001b[0mlistdir\u001b[0m\u001b[0;34m(\u001b[0m\u001b[0mtboard_folder\u001b[0m\u001b[0;34m)\u001b[0m \u001b[0;32mif\u001b[0m \u001b[0mf\u001b[0m\u001b[0;34m.\u001b[0m\u001b[0mstartswith\u001b[0m\u001b[0;34m(\u001b[0m\u001b[0;34m'events'\u001b[0m\u001b[0;34m)\u001b[0m\u001b[0;34m]\u001b[0m\u001b[0;34m[\u001b[0m\u001b[0;36m0\u001b[0m\u001b[0;34m]\u001b[0m\u001b[0;34m\u001b[0m\u001b[0;34m\u001b[0m\u001b[0m\n\u001b[0m\u001b[1;32m    120\u001b[0m         params.update(dict(\n\u001b[1;32m    121\u001b[0m             \u001b[0mpcc\u001b[0m \u001b[0;34m=\u001b[0m\u001b[0mres_data\u001b[0m\u001b[0;34m.\u001b[0m\u001b[0mpccmean\u001b[0m\u001b[0;34m.\u001b[0m\u001b[0mmean\u001b[0m\u001b[0;34m(\u001b[0m\u001b[0;34m)\u001b[0m\u001b[0;34m,\u001b[0m\u001b[0;34m\u001b[0m\u001b[0;34m\u001b[0m\u001b[0m\n",
      "\u001b[0;31mIndexError\u001b[0m: list index out of range"
     ]
    }
   ],
   "source": [
    "resdata = get_result_summaries(res_folder)\n",
    "widgets = get_widgets(resdata, filter_names=None) # the metric widget is implicit\n",
    "drawing_func = lambda **x: get_heatmaps(data=resdata,\n",
    "                       heat_column_names=['condition_on'],\n",
    "                       heat_row_names=['conditioner_mode'], **x)\n",
    "\n",
    "ipywidgets.interact(drawing_func, **widgets)"
   ]
  },
  {
   "cell_type": "markdown",
   "metadata": {},
   "source": [
    "## Closing thougths and next steps"
   ]
  },
  {
   "cell_type": "markdown",
   "metadata": {},
   "source": [
    "### Results\n",
    "+ Overall conditionning on the task is very helpfull for this meta-dataset if well performed\n",
    "+ No clear winner between alternatives to obtain the task representations(task_descr, train_data, both)\n",
    "+ The method of conditionning seems to be very important though: \n",
    "    + The fusion net seems to outperform the two other alternatives explored\n",
    "    + The poor performance of Film  may be related to a gradient propagation problem or maybe the particularities of the dataset considered here.\n",
    "\n",
    "### Next steps\n",
    "+ Confirm or infirm these results on harder datasets: hard harmonics multiple modes\n",
    "+ Explore other alternatives to condition on tasks"
   ]
  },
  {
   "cell_type": "markdown",
   "metadata": {},
   "source": []
  }
 ],
 "metadata": {
  "kernelspec": {
   "display_name": "invivo",
   "language": "python",
   "name": "invivo"
  },
  "language_info": {
   "codemirror_mode": {
    "name": "ipython",
    "version": 3
   },
   "file_extension": ".py",
   "mimetype": "text/x-python",
   "name": "python",
   "nbconvert_exporter": "python",
   "pygments_lexer": "ipython3",
   "version": "3.6.8"
  }
 },
 "nbformat": 4,
 "nbformat_minor": 2
}
