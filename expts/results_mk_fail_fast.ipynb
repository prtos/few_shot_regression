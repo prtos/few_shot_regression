{
 "cells": [
  {
   "cell_type": "markdown",
   "metadata": {},
   "source": [
    "## Result compilation 1 :fail fast experiments of metakrr_mk using easy harmonic datasets"
   ]
  },
  {
   "cell_type": "markdown",
   "metadata": {},
   "source": [
    "### Summary\n",
    "In this experiement, we compare MetaKRR single kernel (SK) with MetaKRR multi kernel (MK) using the meta-dataset easy harmonics (Only 2 harmonic with a fixed frequence, only phases and amplitude are varied).\n",
    "We also explore different versions of MK to determine what is the best way to condition on a task.\n",
    "\n",
    "Let's $z$ be the task representation. \n",
    "Three alternatives were explored to get $z$ herein:\n",
    "- task_descr: predefined task descriptor given by the data distribution that generates the task. For example, in esaytoy, the task descriptor is the set of the phases and the amplitudes of the 2 harmonics.\n",
    "- train_data: $z$ is obtained by encoding of the training set of each episode/task using a neural network. The architecture of this is a 3 stage attention network followed by an average pooling layer\n",
    "- both: a combination of the aboves through a concatenation\n",
    "\n",
    "Three methods were considered to adapt the shared feature extractor $\\phi(x)$ to each task/episode:\n",
    "+ fusion net $f(\\phi(x), z) = MLP([\\phi(x); z])$; where $[\\cdot; \\cdot]$ means the concatenation of the vectors and $MLP$ is  a fully connected multi-layer neural network (which output dimension is the same as $\\phi$ output dim).\n",
    "+ gated modulation: $f(\\phi(x), z) = \\phi(x) \\odot \\sigma(z) $; where $\\odot$ is the element-wise multiplication and $\\sigma$ is the sigmoid activation function\n",
    "+ Film modulation: $f(\\phi(x), z) = FiLM(\\phi(x), z) $, where FiLM is a Feature-wise Linear Modulation proposed [here](https://arxiv.org/pdf/1709.07871.pdf)"
   ]
  },
  {
   "cell_type": "markdown",
   "metadata": {},
   "source": [
    "## Look at the validation lost and the meta-test performances"
   ]
  },
  {
   "cell_type": "code",
   "execution_count": 1,
   "metadata": {},
   "outputs": [
    {
     "name": "stderr",
     "output_type": "stream",
     "text": [
      "/home/prtos/anaconda3/envs/invivo/lib/python3.6/site-packages/matplotlib/__init__.py:886: MatplotlibDeprecationWarning: \n",
      "examples.directory is deprecated; in the future, examples will be found relative to the 'datapath' directory.\n",
      "  \"found relative to the 'datapath' directory.\".format(key))\n"
     ]
    }
   ],
   "source": [
    "from analysis_utils import *\n",
    "res_folder = os.path.abspath('./fail_fast_test/results/')"
   ]
  },
  {
   "cell_type": "code",
   "execution_count": 2,
   "metadata": {},
   "outputs": [
    {
     "data": {
      "application/vnd.jupyter.widget-view+json": {
       "model_id": "7eb277dfc3b840c98d88bf5d22c51204",
       "version_major": 2,
       "version_minor": 0
      },
      "text/plain": [
       "interactive(children=(Dropdown(description='Metric', options=('mse', 'r2', 'pcc', 'val_loss'), value='mse'), O…"
      ]
     },
     "metadata": {},
     "output_type": "display_data"
    },
    {
     "data": {
      "text/plain": [
       "<function __main__.<lambda>(**x)>"
      ]
     },
     "execution_count": 2,
     "metadata": {},
     "output_type": "execute_result"
    }
   ],
   "source": [
    "resdata = get_result_summaries(res_folder)\n",
    "widgets = get_widgets(resdata, filter_names=None) # the metric widget is implicit\n",
    "drawing_func = lambda **x: get_heatmaps(data=resdata,\n",
    "                       heat_column_names=['condition_on'],\n",
    "                       heat_row_names=['conditioner_mode'], **x)\n",
    "\n",
    "ipywidgets.interact(drawing_func, **widgets)"
   ]
  },
  {
   "cell_type": "markdown",
   "metadata": {},
   "source": [
    "## Closing thougths and next steps"
   ]
  },
  {
   "cell_type": "markdown",
   "metadata": {},
   "source": [
    "### Results\n",
    "+ Overall conditionning on the task is very helpfull for this meta-dataset if well performed\n",
    "+ No clear winner between alternatives to obtain the task representations(task_descr, train_data, both)\n",
    "+ The method of conditionning seems to be very important though: \n",
    "    + The fusion net seems to outperform the two other alternatives explored\n",
    "    + The poor performance of Film  may be related to a gradient propagation problem or maybe the particularities of the dataset considered here.\n",
    "\n",
    "### Next steps\n",
    "+ Confirm or infirm these results on harder datasets: hard harmonics multiple modes\n",
    "+ Explore other alternatives to condition on tasks"
   ]
  },
  {
   "cell_type": "markdown",
   "metadata": {},
   "source": []
  }
 ],
 "metadata": {
  "kernelspec": {
   "display_name": "invivo",
   "language": "python",
   "name": "invivo"
  },
  "language_info": {
   "codemirror_mode": {
    "name": "ipython",
    "version": 3
   },
   "file_extension": ".py",
   "mimetype": "text/x-python",
   "name": "python",
   "nbconvert_exporter": "python",
   "pygments_lexer": "ipython3",
   "version": "3.6.8"
  }
 },
 "nbformat": 4,
 "nbformat_minor": 2
}
